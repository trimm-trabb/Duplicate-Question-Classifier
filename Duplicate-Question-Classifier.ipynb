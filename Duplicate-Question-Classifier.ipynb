{
  "cells": [
    {
      "cell_type": "code",
      "execution_count": null,
      "metadata": {
        "id": "KQhPjgovIHfv"
      },
      "outputs": [],
      "source": [
        "import numpy as np\n",
        "import pandas as pd\n",
        "import matplotlib.pyplot as plt\n",
        "import nltk\n",
        "from nltk.tokenize import word_tokenize\n",
        "from nltk.corpus import stopwords\n",
        "from nltk.stem.snowball import SnowballStemmer\n",
        "from nltk.stem import WordNetLemmatizer\n",
        "from sklearn.metrics.pairwise import cosine_similarity\n",
        "from sklearn.feature_extraction.text import CountVectorizer, TfidfVectorizer\n",
        "from sklearn.model_selection import train_test_split, StratifiedKFold\n",
        "from sklearn.linear_model import LogisticRegression\n",
        "from sklearn.naive_bayes import MultinomialNB\n",
        "from sklearn.metrics import log_loss, accuracy_score, f1_score, confusion_matrix, precision_score, recall_score\n",
        "from xgboost import XGBClassifier\n",
        "import seaborn as sns\n",
        "import re\n",
        "import torch\n",
        "import os\n",
        "from torch import nn\n",
        "from transformers import BertTokenizer, BertModel, Trainer, TrainingArguments, DataCollatorWithPadding,AdamW, get_linear_schedule_with_warmup\n",
        "from torch.utils.data import Dataset\n",
        "from tqdm import tqdm\n",
        "from numpy.linalg import norm\n",
        "from scipy.sparse import hstack, csr_matrix\n",
        "nltk.download('stopwords')\n",
        "nltk.download('punkt')\n",
        "nltk.download('wordnet')"
      ]
    },
    {
      "cell_type": "markdown",
      "source": [
        "# Data Loading"
      ],
      "metadata": {
        "id": "thkEs5h21eV8"
      }
    },
    {
      "cell_type": "code",
      "execution_count": 2,
      "metadata": {
        "colab": {
          "base_uri": "https://localhost:8080/"
        },
        "id": "m6VryWmiIQp1",
        "outputId": "c06172eb-0b1a-4f0b-8ba9-3726b95809d3"
      },
      "outputs": [
        {
          "output_type": "stream",
          "name": "stdout",
          "text": [
            "Mounted at /content/drive\n"
          ]
        }
      ],
      "source": [
        "from google.colab import drive\n",
        "drive.mount('/content/drive')\n",
        "df_train = pd.read_csv(\"/content/drive/MyDrive/Machine Learning/Data/quora_question_pairs_train.csv.zip\")\n",
        "df_test = pd.read_csv(\"/content/drive/MyDrive/Machine Learning/Data/quora_question_pairs_test.csv.zip\")"
      ]
    },
    {
      "cell_type": "code",
      "execution_count": null,
      "metadata": {
        "colab": {
          "base_uri": "https://localhost:8080/",
          "height": 206
        },
        "id": "-Qe_1jBRInUp",
        "outputId": "d3107f08-d23c-428f-ecfc-5af3c3de928f"
      },
      "outputs": [
        {
          "data": {
            "application/vnd.google.colaboratory.intrinsic+json": {
              "type": "dataframe",
              "variable_name": "df_train"
            },
            "text/html": [
              "\n",
              "  <div id=\"df-fc96e9a6-c5d3-485f-97a1-d4b4a7a79d9b\" class=\"colab-df-container\">\n",
              "    <div>\n",
              "<style scoped>\n",
              "    .dataframe tbody tr th:only-of-type {\n",
              "        vertical-align: middle;\n",
              "    }\n",
              "\n",
              "    .dataframe tbody tr th {\n",
              "        vertical-align: top;\n",
              "    }\n",
              "\n",
              "    .dataframe thead th {\n",
              "        text-align: right;\n",
              "    }\n",
              "</style>\n",
              "<table border=\"1\" class=\"dataframe\">\n",
              "  <thead>\n",
              "    <tr style=\"text-align: right;\">\n",
              "      <th></th>\n",
              "      <th>id</th>\n",
              "      <th>qid1</th>\n",
              "      <th>qid2</th>\n",
              "      <th>question1</th>\n",
              "      <th>question2</th>\n",
              "      <th>is_duplicate</th>\n",
              "    </tr>\n",
              "  </thead>\n",
              "  <tbody>\n",
              "    <tr>\n",
              "      <th>0</th>\n",
              "      <td>332278</td>\n",
              "      <td>459256</td>\n",
              "      <td>459257</td>\n",
              "      <td>The Iliad and the Odyssey in the Greek culture?</td>\n",
              "      <td>How do I prove that the pairs of three indepen...</td>\n",
              "      <td>0</td>\n",
              "    </tr>\n",
              "    <tr>\n",
              "      <th>1</th>\n",
              "      <td>196656</td>\n",
              "      <td>297402</td>\n",
              "      <td>297403</td>\n",
              "      <td>What is practical management and what is strat...</td>\n",
              "      <td>What are the practical aspects of strategic ma...</td>\n",
              "      <td>0</td>\n",
              "    </tr>\n",
              "    <tr>\n",
              "      <th>2</th>\n",
              "      <td>113125</td>\n",
              "      <td>184949</td>\n",
              "      <td>184950</td>\n",
              "      <td>How useful is MakeUseOf Answers?</td>\n",
              "      <td>Is there any Q&amp;A site that is not Yahoo answer...</td>\n",
              "      <td>0</td>\n",
              "    </tr>\n",
              "    <tr>\n",
              "      <th>3</th>\n",
              "      <td>266232</td>\n",
              "      <td>101283</td>\n",
              "      <td>163744</td>\n",
              "      <td>Which is the best place to reside in India and...</td>\n",
              "      <td>Which ia the best place to visit in India?</td>\n",
              "      <td>0</td>\n",
              "    </tr>\n",
              "    <tr>\n",
              "      <th>4</th>\n",
              "      <td>122738</td>\n",
              "      <td>17811</td>\n",
              "      <td>27517</td>\n",
              "      <td>Why do so many people ask questions on Quora t...</td>\n",
              "      <td>Why don't many people posting questions on Quo...</td>\n",
              "      <td>1</td>\n",
              "    </tr>\n",
              "  </tbody>\n",
              "</table>\n",
              "</div>\n",
              "    <div class=\"colab-df-buttons\">\n",
              "\n",
              "  <div class=\"colab-df-container\">\n",
              "    <button class=\"colab-df-convert\" onclick=\"convertToInteractive('df-fc96e9a6-c5d3-485f-97a1-d4b4a7a79d9b')\"\n",
              "            title=\"Convert this dataframe to an interactive table.\"\n",
              "            style=\"display:none;\">\n",
              "\n",
              "  <svg xmlns=\"http://www.w3.org/2000/svg\" height=\"24px\" viewBox=\"0 -960 960 960\">\n",
              "    <path d=\"M120-120v-720h720v720H120Zm60-500h600v-160H180v160Zm220 220h160v-160H400v160Zm0 220h160v-160H400v160ZM180-400h160v-160H180v160Zm440 0h160v-160H620v160ZM180-180h160v-160H180v160Zm440 0h160v-160H620v160Z\"/>\n",
              "  </svg>\n",
              "    </button>\n",
              "\n",
              "  <style>\n",
              "    .colab-df-container {\n",
              "      display:flex;\n",
              "      gap: 12px;\n",
              "    }\n",
              "\n",
              "    .colab-df-convert {\n",
              "      background-color: #E8F0FE;\n",
              "      border: none;\n",
              "      border-radius: 50%;\n",
              "      cursor: pointer;\n",
              "      display: none;\n",
              "      fill: #1967D2;\n",
              "      height: 32px;\n",
              "      padding: 0 0 0 0;\n",
              "      width: 32px;\n",
              "    }\n",
              "\n",
              "    .colab-df-convert:hover {\n",
              "      background-color: #E2EBFA;\n",
              "      box-shadow: 0px 1px 2px rgba(60, 64, 67, 0.3), 0px 1px 3px 1px rgba(60, 64, 67, 0.15);\n",
              "      fill: #174EA6;\n",
              "    }\n",
              "\n",
              "    .colab-df-buttons div {\n",
              "      margin-bottom: 4px;\n",
              "    }\n",
              "\n",
              "    [theme=dark] .colab-df-convert {\n",
              "      background-color: #3B4455;\n",
              "      fill: #D2E3FC;\n",
              "    }\n",
              "\n",
              "    [theme=dark] .colab-df-convert:hover {\n",
              "      background-color: #434B5C;\n",
              "      box-shadow: 0px 1px 3px 1px rgba(0, 0, 0, 0.15);\n",
              "      filter: drop-shadow(0px 1px 2px rgba(0, 0, 0, 0.3));\n",
              "      fill: #FFFFFF;\n",
              "    }\n",
              "  </style>\n",
              "\n",
              "    <script>\n",
              "      const buttonEl =\n",
              "        document.querySelector('#df-fc96e9a6-c5d3-485f-97a1-d4b4a7a79d9b button.colab-df-convert');\n",
              "      buttonEl.style.display =\n",
              "        google.colab.kernel.accessAllowed ? 'block' : 'none';\n",
              "\n",
              "      async function convertToInteractive(key) {\n",
              "        const element = document.querySelector('#df-fc96e9a6-c5d3-485f-97a1-d4b4a7a79d9b');\n",
              "        const dataTable =\n",
              "          await google.colab.kernel.invokeFunction('convertToInteractive',\n",
              "                                                    [key], {});\n",
              "        if (!dataTable) return;\n",
              "\n",
              "        const docLinkHtml = 'Like what you see? Visit the ' +\n",
              "          '<a target=\"_blank\" href=https://colab.research.google.com/notebooks/data_table.ipynb>data table notebook</a>'\n",
              "          + ' to learn more about interactive tables.';\n",
              "        element.innerHTML = '';\n",
              "        dataTable['output_type'] = 'display_data';\n",
              "        await google.colab.output.renderOutput(dataTable, element);\n",
              "        const docLink = document.createElement('div');\n",
              "        docLink.innerHTML = docLinkHtml;\n",
              "        element.appendChild(docLink);\n",
              "      }\n",
              "    </script>\n",
              "  </div>\n",
              "\n",
              "\n",
              "<div id=\"df-dcc48704-1c39-4846-b6dc-1b3d01440ce4\">\n",
              "  <button class=\"colab-df-quickchart\" onclick=\"quickchart('df-dcc48704-1c39-4846-b6dc-1b3d01440ce4')\"\n",
              "            title=\"Suggest charts\"\n",
              "            style=\"display:none;\">\n",
              "\n",
              "<svg xmlns=\"http://www.w3.org/2000/svg\" height=\"24px\"viewBox=\"0 0 24 24\"\n",
              "     width=\"24px\">\n",
              "    <g>\n",
              "        <path d=\"M19 3H5c-1.1 0-2 .9-2 2v14c0 1.1.9 2 2 2h14c1.1 0 2-.9 2-2V5c0-1.1-.9-2-2-2zM9 17H7v-7h2v7zm4 0h-2V7h2v10zm4 0h-2v-4h2v4z\"/>\n",
              "    </g>\n",
              "</svg>\n",
              "  </button>\n",
              "\n",
              "<style>\n",
              "  .colab-df-quickchart {\n",
              "      --bg-color: #E8F0FE;\n",
              "      --fill-color: #1967D2;\n",
              "      --hover-bg-color: #E2EBFA;\n",
              "      --hover-fill-color: #174EA6;\n",
              "      --disabled-fill-color: #AAA;\n",
              "      --disabled-bg-color: #DDD;\n",
              "  }\n",
              "\n",
              "  [theme=dark] .colab-df-quickchart {\n",
              "      --bg-color: #3B4455;\n",
              "      --fill-color: #D2E3FC;\n",
              "      --hover-bg-color: #434B5C;\n",
              "      --hover-fill-color: #FFFFFF;\n",
              "      --disabled-bg-color: #3B4455;\n",
              "      --disabled-fill-color: #666;\n",
              "  }\n",
              "\n",
              "  .colab-df-quickchart {\n",
              "    background-color: var(--bg-color);\n",
              "    border: none;\n",
              "    border-radius: 50%;\n",
              "    cursor: pointer;\n",
              "    display: none;\n",
              "    fill: var(--fill-color);\n",
              "    height: 32px;\n",
              "    padding: 0;\n",
              "    width: 32px;\n",
              "  }\n",
              "\n",
              "  .colab-df-quickchart:hover {\n",
              "    background-color: var(--hover-bg-color);\n",
              "    box-shadow: 0 1px 2px rgba(60, 64, 67, 0.3), 0 1px 3px 1px rgba(60, 64, 67, 0.15);\n",
              "    fill: var(--button-hover-fill-color);\n",
              "  }\n",
              "\n",
              "  .colab-df-quickchart-complete:disabled,\n",
              "  .colab-df-quickchart-complete:disabled:hover {\n",
              "    background-color: var(--disabled-bg-color);\n",
              "    fill: var(--disabled-fill-color);\n",
              "    box-shadow: none;\n",
              "  }\n",
              "\n",
              "  .colab-df-spinner {\n",
              "    border: 2px solid var(--fill-color);\n",
              "    border-color: transparent;\n",
              "    border-bottom-color: var(--fill-color);\n",
              "    animation:\n",
              "      spin 1s steps(1) infinite;\n",
              "  }\n",
              "\n",
              "  @keyframes spin {\n",
              "    0% {\n",
              "      border-color: transparent;\n",
              "      border-bottom-color: var(--fill-color);\n",
              "      border-left-color: var(--fill-color);\n",
              "    }\n",
              "    20% {\n",
              "      border-color: transparent;\n",
              "      border-left-color: var(--fill-color);\n",
              "      border-top-color: var(--fill-color);\n",
              "    }\n",
              "    30% {\n",
              "      border-color: transparent;\n",
              "      border-left-color: var(--fill-color);\n",
              "      border-top-color: var(--fill-color);\n",
              "      border-right-color: var(--fill-color);\n",
              "    }\n",
              "    40% {\n",
              "      border-color: transparent;\n",
              "      border-right-color: var(--fill-color);\n",
              "      border-top-color: var(--fill-color);\n",
              "    }\n",
              "    60% {\n",
              "      border-color: transparent;\n",
              "      border-right-color: var(--fill-color);\n",
              "    }\n",
              "    80% {\n",
              "      border-color: transparent;\n",
              "      border-right-color: var(--fill-color);\n",
              "      border-bottom-color: var(--fill-color);\n",
              "    }\n",
              "    90% {\n",
              "      border-color: transparent;\n",
              "      border-bottom-color: var(--fill-color);\n",
              "    }\n",
              "  }\n",
              "</style>\n",
              "\n",
              "  <script>\n",
              "    async function quickchart(key) {\n",
              "      const quickchartButtonEl =\n",
              "        document.querySelector('#' + key + ' button');\n",
              "      quickchartButtonEl.disabled = true;  // To prevent multiple clicks.\n",
              "      quickchartButtonEl.classList.add('colab-df-spinner');\n",
              "      try {\n",
              "        const charts = await google.colab.kernel.invokeFunction(\n",
              "            'suggestCharts', [key], {});\n",
              "      } catch (error) {\n",
              "        console.error('Error during call to suggestCharts:', error);\n",
              "      }\n",
              "      quickchartButtonEl.classList.remove('colab-df-spinner');\n",
              "      quickchartButtonEl.classList.add('colab-df-quickchart-complete');\n",
              "    }\n",
              "    (() => {\n",
              "      let quickchartButtonEl =\n",
              "        document.querySelector('#df-dcc48704-1c39-4846-b6dc-1b3d01440ce4 button');\n",
              "      quickchartButtonEl.style.display =\n",
              "        google.colab.kernel.accessAllowed ? 'block' : 'none';\n",
              "    })();\n",
              "  </script>\n",
              "</div>\n",
              "    </div>\n",
              "  </div>\n"
            ],
            "text/plain": [
              "       id    qid1    qid2                                          question1  \\\n",
              "0  332278  459256  459257    The Iliad and the Odyssey in the Greek culture?   \n",
              "1  196656  297402  297403  What is practical management and what is strat...   \n",
              "2  113125  184949  184950                   How useful is MakeUseOf Answers?   \n",
              "3  266232  101283  163744  Which is the best place to reside in India and...   \n",
              "4  122738   17811   27517  Why do so many people ask questions on Quora t...   \n",
              "\n",
              "                                           question2  is_duplicate  \n",
              "0  How do I prove that the pairs of three indepen...             0  \n",
              "1  What are the practical aspects of strategic ma...             0  \n",
              "2  Is there any Q&A site that is not Yahoo answer...             0  \n",
              "3         Which ia the best place to visit in India?             0  \n",
              "4  Why don't many people posting questions on Quo...             1  "
            ]
          },
          "execution_count": 3,
          "metadata": {},
          "output_type": "execute_result"
        }
      ],
      "source": [
        "df_train.head()"
      ]
    },
    {
      "cell_type": "markdown",
      "metadata": {
        "id": "u5dGNcFLsoEx"
      },
      "source": [
        "# Exploratory Data Analysis"
      ]
    },
    {
      "cell_type": "markdown",
      "metadata": {
        "id": "ucIYMf_7stsI"
      },
      "source": [
        "Let's check number of records in train and test datasets:"
      ]
    },
    {
      "cell_type": "code",
      "execution_count": null,
      "metadata": {
        "colab": {
          "base_uri": "https://localhost:8080/"
        },
        "id": "GdYShkAvJLWt",
        "outputId": "7a55171b-808d-47bb-f700-5f409a488f61"
      },
      "outputs": [
        {
          "data": {
            "text/plain": [
              "((323432, 6), (80858, 6))"
            ]
          },
          "execution_count": 4,
          "metadata": {},
          "output_type": "execute_result"
        }
      ],
      "source": [
        "df_train.shape, df_test.shape"
      ]
    },
    {
      "cell_type": "markdown",
      "metadata": {
        "id": "hjFJC7bbsyDr"
      },
      "source": [
        "Let's check the distribution of classes in both datasets:"
      ]
    },
    {
      "cell_type": "code",
      "execution_count": null,
      "metadata": {
        "colab": {
          "base_uri": "https://localhost:8080/"
        },
        "id": "uy-U2SMfIz4o",
        "outputId": "922e3bfd-9db5-465c-d7cf-a885ecb8f34e"
      },
      "outputs": [
        {
          "name": "stdout",
          "output_type": "stream",
          "text": [
            "Train:\n",
            " is_duplicate\n",
            "0    0.630803\n",
            "1    0.369197\n",
            "Name: proportion, dtype: float64 \n",
            "Test:\n",
            " is_duplicate\n",
            "0    0.630797\n",
            "1    0.369203\n",
            "Name: proportion, dtype: float64\n"
          ]
        }
      ],
      "source": [
        "print('Train:\\n', df_train.is_duplicate.value_counts(normalize=True), '\\nTest:\\n', df_test.is_duplicate.value_counts(normalize=True))"
      ]
    },
    {
      "cell_type": "markdown",
      "metadata": {
        "id": "Wkfra99Es4dt"
      },
      "source": [
        "Let's check if there're any missing values in the datasets:"
      ]
    },
    {
      "cell_type": "code",
      "execution_count": null,
      "metadata": {
        "colab": {
          "base_uri": "https://localhost:8080/",
          "height": 272
        },
        "id": "30t4A0OQJIKY",
        "outputId": "b29353f6-53f9-4755-b689-6739da347afb"
      },
      "outputs": [
        {
          "data": {
            "text/html": [
              "<div>\n",
              "<style scoped>\n",
              "    .dataframe tbody tr th:only-of-type {\n",
              "        vertical-align: middle;\n",
              "    }\n",
              "\n",
              "    .dataframe tbody tr th {\n",
              "        vertical-align: top;\n",
              "    }\n",
              "\n",
              "    .dataframe thead th {\n",
              "        text-align: right;\n",
              "    }\n",
              "</style>\n",
              "<table border=\"1\" class=\"dataframe\">\n",
              "  <thead>\n",
              "    <tr style=\"text-align: right;\">\n",
              "      <th></th>\n",
              "      <th>0</th>\n",
              "    </tr>\n",
              "  </thead>\n",
              "  <tbody>\n",
              "    <tr>\n",
              "      <th>id</th>\n",
              "      <td>0</td>\n",
              "    </tr>\n",
              "    <tr>\n",
              "      <th>qid1</th>\n",
              "      <td>0</td>\n",
              "    </tr>\n",
              "    <tr>\n",
              "      <th>qid2</th>\n",
              "      <td>0</td>\n",
              "    </tr>\n",
              "    <tr>\n",
              "      <th>question1</th>\n",
              "      <td>1</td>\n",
              "    </tr>\n",
              "    <tr>\n",
              "      <th>question2</th>\n",
              "      <td>2</td>\n",
              "    </tr>\n",
              "    <tr>\n",
              "      <th>is_duplicate</th>\n",
              "      <td>0</td>\n",
              "    </tr>\n",
              "  </tbody>\n",
              "</table>\n",
              "</div><br><label><b>dtype:</b> int64</label>"
            ],
            "text/plain": [
              "id              0\n",
              "qid1            0\n",
              "qid2            0\n",
              "question1       1\n",
              "question2       2\n",
              "is_duplicate    0\n",
              "dtype: int64"
            ]
          },
          "execution_count": 6,
          "metadata": {},
          "output_type": "execute_result"
        }
      ],
      "source": [
        "df_train.isnull().sum()"
      ]
    },
    {
      "cell_type": "code",
      "execution_count": null,
      "metadata": {
        "colab": {
          "base_uri": "https://localhost:8080/",
          "height": 272
        },
        "id": "C_fLUTF5KD3V",
        "outputId": "6f86b98a-0bcd-4cb2-b011-46365ee61511"
      },
      "outputs": [
        {
          "data": {
            "text/html": [
              "<div>\n",
              "<style scoped>\n",
              "    .dataframe tbody tr th:only-of-type {\n",
              "        vertical-align: middle;\n",
              "    }\n",
              "\n",
              "    .dataframe tbody tr th {\n",
              "        vertical-align: top;\n",
              "    }\n",
              "\n",
              "    .dataframe thead th {\n",
              "        text-align: right;\n",
              "    }\n",
              "</style>\n",
              "<table border=\"1\" class=\"dataframe\">\n",
              "  <thead>\n",
              "    <tr style=\"text-align: right;\">\n",
              "      <th></th>\n",
              "      <th>0</th>\n",
              "    </tr>\n",
              "  </thead>\n",
              "  <tbody>\n",
              "    <tr>\n",
              "      <th>id</th>\n",
              "      <td>0</td>\n",
              "    </tr>\n",
              "    <tr>\n",
              "      <th>qid1</th>\n",
              "      <td>0</td>\n",
              "    </tr>\n",
              "    <tr>\n",
              "      <th>qid2</th>\n",
              "      <td>0</td>\n",
              "    </tr>\n",
              "    <tr>\n",
              "      <th>question1</th>\n",
              "      <td>0</td>\n",
              "    </tr>\n",
              "    <tr>\n",
              "      <th>question2</th>\n",
              "      <td>0</td>\n",
              "    </tr>\n",
              "    <tr>\n",
              "      <th>is_duplicate</th>\n",
              "      <td>0</td>\n",
              "    </tr>\n",
              "  </tbody>\n",
              "</table>\n",
              "</div><br><label><b>dtype:</b> int64</label>"
            ],
            "text/plain": [
              "id              0\n",
              "qid1            0\n",
              "qid2            0\n",
              "question1       0\n",
              "question2       0\n",
              "is_duplicate    0\n",
              "dtype: int64"
            ]
          },
          "execution_count": 7,
          "metadata": {},
          "output_type": "execute_result"
        }
      ],
      "source": [
        "df_test.isnull().sum()"
      ]
    },
    {
      "cell_type": "code",
      "execution_count": 3,
      "metadata": {
        "id": "CLAlaYacJ9mH"
      },
      "outputs": [],
      "source": [
        "# Dropping the records with missing values from the train dataset\n",
        "df_train.dropna(inplace=True)\n",
        "df_train.reset_index(inplace=True)"
      ]
    },
    {
      "cell_type": "markdown",
      "metadata": {
        "id": "6BUTFwBVtPn-"
      },
      "source": [
        "Let's analyze question length distribution in the train dataset:"
      ]
    },
    {
      "cell_type": "code",
      "execution_count": null,
      "metadata": {
        "colab": {
          "base_uri": "https://localhost:8080/",
          "height": 430
        },
        "id": "N_3SxS6eKHW6",
        "outputId": "6f3481b6-30a1-43e9-d8f3-90ca6e6c6e51"
      },
      "outputs": [
        {
          "data": {
            "image/png": "[encoded data removed]",
            "text/plain": [
              "<Figure size 640x480 with 1 Axes>"
            ]
          },
          "metadata": {},
          "output_type": "display_data"
        }
      ],
      "source": [
        "plt.hist([df_train.question1.str.len(), df_train.question2.str.len()], bins=5, range=(0, 300), label=['question1', 'question2'], color=['b','g'])\n",
        "plt.legend(loc='upper right')\n",
        "plt.show()"
      ]
    },
    {
      "cell_type": "markdown",
      "metadata": {
        "id": "92Qit7hWuD8X"
      },
      "source": [
        "Both question sets have the majority of values clustered around the lower range (with ~60% of questions being under 50 symbols), indicating that most questions are short. Both sets have a comparable length distribution."
      ]
    },
    {
      "cell_type": "markdown",
      "metadata": {
        "id": "s7TXirC3NfSJ"
      },
      "source": [
        "# Data preprocessing"
      ]
    },
    {
      "cell_type": "markdown",
      "source": [
        "\n",
        "Text data preprocessing is essential for transforming raw text into numerical formats that machine learning models can understand. We'll use TF-IDF and BERT embeddings here."
      ],
      "metadata": {
        "id": "aV5CdbqKTtSS"
      }
    },
    {
      "cell_type": "code",
      "execution_count": 4,
      "metadata": {
        "id": "qgZsln1DQ4Vg"
      },
      "outputs": [],
      "source": [
        "text_cols = ['question1', 'question2']\n",
        "\n",
        "X_train = df_train[text_cols]\n",
        "y_train = df_train.is_duplicate\n",
        "X_test = df_test[text_cols]\n",
        "y_test = df_test.is_duplicate"
      ]
    },
    {
      "cell_type": "markdown",
      "metadata": {
        "id": "ja-3Z8DZ_Tpv"
      },
      "source": [
        "## TF-IDF"
      ]
    },
    {
      "cell_type": "markdown",
      "source": [
        "TF-IDF (Term Frequency-Inverse Document Frequency) is a method to represent text data numerically by evaluating the importance of each word in a document relative to its frequency across the entire dataset. The \"Term Frequency\" (TF) captures how frequently a word appears in a document, while the \"Inverse Document Frequency\" (IDF) downweights common words that appear frequently across multiple documents. TF-IDF scores help to capture the unique characteristics of a document, making it easier for algorithms to differentiate between texts."
      ],
      "metadata": {
        "id": "DnGuyvV_173w"
      }
    },
    {
      "cell_type": "code",
      "execution_count": null,
      "metadata": {
        "id": "_RsUUTD1Kl7B"
      },
      "outputs": [],
      "source": [
        "lemmatizer = WordNetLemmatizer()\n",
        "stop_words = set(stopwords.words(\"english\"))"
      ]
    },
    {
      "cell_type": "code",
      "execution_count": null,
      "metadata": {
        "id": "J0QX6_BONhfO"
      },
      "outputs": [],
      "source": [
        "# Custom tokenizer function\n",
        "def tokenize(text):\n",
        "    # Lowercase the text\n",
        "    text = text.lower()\n",
        "\n",
        "    # Remove URLs, mentions, hashtags, and other common patterns\n",
        "    text = re.sub(r\"http\\S+|www\\S+|@\\w+|#\\w+\", \"\", text)\n",
        "\n",
        "    # Remove punctuation and special characters\n",
        "    text = re.sub(r\"[^\\w\\s]\", \"\", text)\n",
        "\n",
        "    # Tokenize\n",
        "    tokens = word_tokenize(text)\n",
        "\n",
        "    # Remove stop words\n",
        "    tokens = [word for word in tokens if word not in stop_words]\n",
        "\n",
        "    # Lemmatize tokens\n",
        "    tokens = [lemmatizer.lemmatize(word) for word in tokens]\n",
        "\n",
        "    return tokens"
      ]
    },
    {
      "cell_type": "code",
      "execution_count": null,
      "metadata": {
        "id": "UyZ7gounNlkJ"
      },
      "outputs": [],
      "source": [
        "vectorizer = TfidfVectorizer(lowercase=True,\n",
        "                             ngram_range=(1, 2),\n",
        "                             max_features=5000,\n",
        "                             tokenizer=tokenize,\n",
        "                             token_pattern=None\n",
        ")"
      ]
    },
    {
      "cell_type": "code",
      "execution_count": null,
      "metadata": {
        "id": "tBcefePVPN9o"
      },
      "outputs": [],
      "source": [
        "# Combine the two text columns into a single column\n",
        "X_train_combined = df_train['question1'] + ' ' + df_train['question2']\n",
        "\n",
        "# Now fit and transform the combined text\n",
        "X_train_tfidf = vectorizer.fit_transform(X_train_combined)"
      ]
    },
    {
      "cell_type": "code",
      "execution_count": null,
      "metadata": {
        "id": "XdRN2cD7VVMP"
      },
      "outputs": [],
      "source": [
        "X_test_combined = df_test['question1'] + ' ' + df_test['question2']\n",
        "\n",
        "X_test_tfidf = vectorizer.transform(X_test_combined)"
      ]
    },
    {
      "cell_type": "markdown",
      "metadata": {
        "id": "3PY1aZFZ_axx"
      },
      "source": [
        "## Bert Embeddings"
      ]
    },
    {
      "cell_type": "markdown",
      "source": [
        "BERT (Bidirectional Encoder Representations from Transformers) is a transformer-based model that generates deep contextual embeddings for text by capturing semantic relationships in both directions (left-to-right and right-to-left). BERT embeddings provide a dense representation of each text that reflects not only word meanings but also their context within the sentence. These embeddings are especially useful for tasks like similarity detection, sentiment analysis, and question answering due to their ability to capture nuanced meanings in text."
      ],
      "metadata": {
        "id": "mId0gwIL2F33"
      }
    },
    {
      "cell_type": "code",
      "execution_count": null,
      "metadata": {
        "id": "81wpZ-xbTrzM"
      },
      "outputs": [],
      "source": [
        "# Initialize the tokenizer and model\n",
        "tokenizer = BertTokenizer.from_pretrained('bert-base-uncased')\n",
        "model = BertModel.from_pretrained('bert-base-uncased')\n",
        "\n",
        "# Move the model to GPU if available\n",
        "device = torch.device('cuda' if torch.cuda.is_available() else 'cpu')\n",
        "model.to(device)\n",
        "\n",
        "def get_bert_embeddings_batch(text_list):\n",
        "    \"\"\"\n",
        "    Generates BERT embeddings for a batch of text input.\n",
        "\n",
        "    Args:\n",
        "        text_list (List[str]): A list of text strings to be processed.\n",
        "\n",
        "    Returns:\n",
        "        torch.Tensor: A tensor of CLS token embeddings for each text input in the batch.\n",
        "    \"\"\"\n",
        "    # Tokenize the input text\n",
        "    inputs = tokenizer(text_list, return_tensors=\"pt\", padding=True, truncation=True, max_length=128)\n",
        "    # Move inputs to GPU\n",
        "    inputs = {key: value.to(device) for key, value in inputs.items()}\n",
        "\n",
        "    with torch.no_grad():\n",
        "        outputs = model(**inputs)\n",
        "\n",
        "    # Extract the CLS token embeddings and move to CPU\n",
        "    cls_embeddings = outputs.last_hidden_state[:, 0, :].cpu()\n",
        "    return cls_embeddings"
      ]
    },
    {
      "cell_type": "code",
      "execution_count": null,
      "metadata": {
        "id": "_vpfSS1e8oSO"
      },
      "outputs": [],
      "source": [
        "def batch_process_embeddings(X, batch_size=100):\n",
        "    \"\"\"\n",
        "    Processes input text in batches to generate BERT embeddings for two columns in a DataFrame.\n",
        "\n",
        "    Args:\n",
        "        X (pd.DataFrame): The input DataFrame containing two columns ('question1' and 'question2') of text data.\n",
        "        batch_size (int): Number of samples to process in each batch.\n",
        "\n",
        "    Returns:\n",
        "        Tuple[torch.Tensor, torch.Tensor]: Tensors containing embeddings for 'question1' and 'question2'.\n",
        "    \"\"\"\n",
        "    # Process each column in batches\n",
        "    all_embeddings_q1 = []\n",
        "    all_embeddings_q2 = []\n",
        "\n",
        "    for start in tqdm(range(0, len(X), batch_size)):\n",
        "        end = start + batch_size\n",
        "        batch_q1 = X['question1'][start:end].tolist()\n",
        "        batch_q2 = X['question2'][start:end].tolist()\n",
        "\n",
        "        # Get BERT embeddings for each batch of question1 and question2\n",
        "        embeddings_q1 = get_bert_embeddings_batch(batch_q1)\n",
        "        embeddings_q2 = get_bert_embeddings_batch(batch_q2)\n",
        "\n",
        "        # Append embeddings for this batch to the list\n",
        "        all_embeddings_q1.append(embeddings_q1)\n",
        "        all_embeddings_q2.append(embeddings_q2)\n",
        "\n",
        "    # Concatenate all batches into a single tensor for each question\n",
        "    all_embeddings_q1 = torch.cat(all_embeddings_q1)\n",
        "    all_embeddings_q2 = torch.cat(all_embeddings_q2)\n",
        "\n",
        "    return all_embeddings_q1, all_embeddings_q2"
      ]
    },
    {
      "cell_type": "code",
      "execution_count": null,
      "metadata": {
        "id": "Wte9DD4gz1nq"
      },
      "outputs": [],
      "source": [
        "train_embeddings_q1, train_embeddings_q2 = batch_process_embeddings(X_train)\n",
        "test_embeddings_q1, test_embeddings_q2 = batch_process_embeddings(X_test)"
      ]
    },
    {
      "cell_type": "code",
      "execution_count": null,
      "metadata": {
        "id": "ytA5XndXfmFn"
      },
      "outputs": [],
      "source": [
        "np.save('train_embeddings_q1.npy', train_embeddings_q1.numpy())\n",
        "np.save('train_embeddings_q2.npy', train_embeddings_q2.numpy())\n",
        "np.save('test_embeddings_q1.npy', test_embeddings_q1.numpy())\n",
        "np.save('test_embeddings_q2.npy', test_embeddings_q2.numpy())"
      ]
    },
    {
      "cell_type": "markdown",
      "metadata": {
        "id": "IzZybtbxQqQ-"
      },
      "source": [
        "# Baseline Models"
      ]
    },
    {
      "cell_type": "markdown",
      "source": [
        "Let's train some models (Logistic Regression, Naive Bayes and XGBoost) on TF-IDF embeddings to get a sense of baseline performance:"
      ],
      "metadata": {
        "id": "66UAjhG9UO2s"
      }
    },
    {
      "cell_type": "code",
      "execution_count": 17,
      "metadata": {
        "id": "48QNWeQbRVvr"
      },
      "outputs": [],
      "source": [
        "def train_compute_metrics_cv(model, X, y, cv=5):\n",
        "    \"\"\"\n",
        "    Performs cross-validation training and evaluation on a classification model, computing metrics across folds.\n",
        "\n",
        "    Args:\n",
        "        model (sklearn.base.BaseEstimator): The classification model to be trained and evaluated.\n",
        "        X (np.ndarray or pd.DataFrame): Feature matrix containing input data.\n",
        "        y (np.ndarray or pd.Series): Target labels for classification.\n",
        "        cv (int): Number of cross-validation folds, default is 5.\n",
        "\n",
        "    Returns:\n",
        "        None\n",
        "    \"\"\"\n",
        "    # Initialize lists to store metrics\n",
        "    logloss_train_scores, precision_train_scores, recall_train_scores, f1_train_scores = [], [], [], []\n",
        "    logloss_val_scores, precision_val_scores, recall_val_scores, f1_val_scores = [], [], [], []\n",
        "    cm_abs_total = np.zeros((2, 2), dtype=int)\n",
        "    cm_percentage_total = np.zeros((2, 2), dtype=float)\n",
        "\n",
        "    # Set up cross-validation\n",
        "    skf = StratifiedKFold(n_splits=cv, shuffle=True, random_state=42)\n",
        "\n",
        "    for train_idx, val_idx in skf.split(X, y):\n",
        "        # Split the data\n",
        "        X_train, X_val = X[train_idx], X[val_idx]\n",
        "        y_train, y_val = y[train_idx], y[val_idx]\n",
        "\n",
        "        # Fit the model on training data\n",
        "        model.fit(X_train, y_train)\n",
        "\n",
        "        # Train set predictions and metrics\n",
        "        preds_train_probas = model.predict_proba(X_train)[:, 1]\n",
        "        preds_train = model.predict(X_train)\n",
        "        logloss_train_scores.append(log_loss(y_train, preds_train_probas))\n",
        "        precision_train_scores.append(precision_score(y_train, preds_train))\n",
        "        recall_train_scores.append(recall_score(y_train, preds_train))\n",
        "        f1_train_scores.append(f1_score(y_train, preds_train))\n",
        "\n",
        "        # Validation set predictions and metrics\n",
        "        preds_val_probas = model.predict_proba(X_val)[:, 1]\n",
        "        preds_val = model.predict(X_val)\n",
        "        logloss_val_scores.append(log_loss(y_val, preds_val_probas))\n",
        "        precision_val_scores.append(precision_score(y_val, preds_val))\n",
        "        recall_val_scores.append(recall_score(y_val, preds_val))\n",
        "        f1_val_scores.append(f1_score(y_val, preds_val))\n",
        "\n",
        "        # Update confusion matrices for validation set\n",
        "        cm_abs_total += confusion_matrix(y_val, preds_val)\n",
        "        cm_percentage_total += confusion_matrix(y_val, preds_val, normalize='true')\n",
        "\n",
        "    # Calculate average train metrics across folds\n",
        "    print(\"Train Metrics (averaged across folds):\")\n",
        "    print(\"Average Log loss: {:.2f}\".format(np.mean(logloss_train_scores)))\n",
        "    print(\"Average Precision score: {:.2f}\".format(np.mean(precision_train_scores)))\n",
        "    print(\"Average Recall score: {:.2f}\".format(np.mean(recall_train_scores)))\n",
        "    print(\"Average F1 score: {:.2f}\".format(np.mean(f1_train_scores)))\n",
        "\n",
        "    # Calculate average validation metrics across folds\n",
        "    print(\"\\nValidation Metrics (averaged across folds):\")\n",
        "    print(\"Average Log loss: {:.2f}\".format(np.mean(logloss_val_scores)))\n",
        "    print(\"Average Precision score: {:.2f}\".format(np.mean(precision_val_scores)))\n",
        "    print(\"Average Recall score: {:.2f}\".format(np.mean(recall_val_scores)))\n",
        "    print(\"Average F1 score: {:.2f}\".format(np.mean(f1_val_scores)))\n",
        "\n",
        "    # Average confusion matrix percentage values\n",
        "    cm_percentage_total /= cv\n",
        "\n",
        "    # Plot combined confusion matrix for validation set\n",
        "    plt.figure()\n",
        "    ax = sns.heatmap(cm_percentage_total, annot=True, cmap=\"Blues\", fmt=\".2f\")\n",
        "\n",
        "    # Annotate absolute values on top\n",
        "    threshold = cm_abs_total.max() / 2\n",
        "    for i in range(cm_abs_total.shape[0]):\n",
        "        for j in range(cm_abs_total.shape[1]):\n",
        "            ax.text(j + 0.5, i + 0.6, f'\\n({cm_abs_total[i, j]})',\n",
        "                    ha='center', va='center', fontsize=10,\n",
        "                    color=\"white\" if cm_abs_total[i, j] < threshold else \"black\")\n",
        "\n",
        "    plt.xlabel('Prediction')\n",
        "    plt.ylabel('Target')\n",
        "    plt.title('Cross-Validated Confusion Matrix for Validation Set')\n",
        "    plt.show()"
      ]
    },
    {
      "cell_type": "code",
      "execution_count": null,
      "metadata": {
        "id": "usHbaGZvMy6G"
      },
      "outputs": [],
      "source": [
        "lr = LogisticRegression(solver='sag')"
      ]
    },
    {
      "cell_type": "code",
      "execution_count": null,
      "metadata": {
        "colab": {
          "base_uri": "https://localhost:8080/",
          "height": 668
        },
        "id": "6Gl1nfGsRhpC",
        "outputId": "f0b9893b-beaa-4172-b3cb-429c19ddda85"
      },
      "outputs": [
        {
          "name": "stdout",
          "output_type": "stream",
          "text": [
            "Train Metrics (averaged across folds):\n",
            "Average Log loss: 0.50\n",
            "Average Precision score: 0.72\n",
            "Average Recall score: 0.53\n",
            "Average F1 score: 0.61\n",
            "\n",
            "Validation Metrics (averaged across folds):\n",
            "Average Log loss: 0.51\n",
            "Average Precision score: 0.70\n",
            "Average Recall score: 0.52\n",
            "Average F1 score: 0.60\n"
          ]
        },
        {
          "data": {
            "image/png": "[encoded data removed]",
            "text/plain": [
              "<Figure size 640x480 with 2 Axes>"
            ]
          },
          "metadata": {},
          "output_type": "display_data"
        }
      ],
      "source": [
        "train_compute_metrics_cv(lr, X_train_tfidf, y_train)"
      ]
    },
    {
      "cell_type": "code",
      "execution_count": null,
      "metadata": {
        "colab": {
          "base_uri": "https://localhost:8080/",
          "height": 668
        },
        "id": "Fd5Rq7XI255L",
        "outputId": "2c2ceb8e-dacf-4872-f208-813dd2c26542"
      },
      "outputs": [
        {
          "name": "stdout",
          "output_type": "stream",
          "text": [
            "Train Metrics (averaged across folds):\n",
            "Average Log loss: 0.53\n",
            "Average Precision score: 0.73\n",
            "Average Recall score: 0.43\n",
            "Average F1 score: 0.54\n",
            "\n",
            "Validation Metrics (averaged across folds):\n",
            "Average Log loss: 0.54\n",
            "Average Precision score: 0.73\n",
            "Average Recall score: 0.43\n",
            "Average F1 score: 0.54\n"
          ]
        },
        {
          "data": {
            "image/png": "[encoded data removed]",
            "text/plain": [
              "<Figure size 640x480 with 2 Axes>"
            ]
          },
          "metadata": {},
          "output_type": "display_data"
        }
      ],
      "source": [
        "nb = MultinomialNB()\n",
        "train_compute_metrics_cv(nb, X_train_tfidf, y_train)"
      ]
    },
    {
      "cell_type": "code",
      "execution_count": null,
      "metadata": {
        "id": "Ck4Io7ZpRvCg"
      },
      "outputs": [],
      "source": [
        "xgb = XGBClassifier(objective='binary:logistic')"
      ]
    },
    {
      "cell_type": "code",
      "execution_count": null,
      "metadata": {
        "colab": {
          "base_uri": "https://localhost:8080/",
          "height": 668
        },
        "id": "EkT0SNmZSOB0",
        "outputId": "d1126bbd-f2d1-48ad-a2f6-ac12eb6752de"
      },
      "outputs": [
        {
          "name": "stdout",
          "output_type": "stream",
          "text": [
            "Train Metrics (averaged across folds):\n",
            "Average Log loss: 0.52\n",
            "Average Precision score: 0.82\n",
            "Average Recall score: 0.38\n",
            "Average F1 score: 0.52\n",
            "\n",
            "Validation Metrics (averaged across folds):\n",
            "Average Log loss: 0.54\n",
            "Average Precision score: 0.79\n",
            "Average Recall score: 0.36\n",
            "Average F1 score: 0.49\n"
          ]
        },
        {
          "data": {
            "image/png": "[encoded data removed]",
            "text/plain": [
              "<Figure size 640x480 with 2 Axes>"
            ]
          },
          "metadata": {},
          "output_type": "display_data"
        }
      ],
      "source": [
        "train_compute_metrics_cv(xgb, X_train_tfidf, y_train)"
      ]
    },
    {
      "cell_type": "markdown",
      "source": [
        "Logistic Regression yields the best results."
      ],
      "metadata": {
        "id": "F6KRE879Uxuo"
      }
    },
    {
      "cell_type": "markdown",
      "metadata": {
        "id": "JoXMnaEn_IER"
      },
      "source": [
        "# Text Similarity Metrics"
      ]
    },
    {
      "cell_type": "markdown",
      "source": [
        "The similarity metrics — cosine similarity, Euclidean distance, and Manhattan distance are useful for assessing how closely two sets of text embeddings are related.\n",
        "\n",
        "Cosine Similarity measures the angular distance between two vectors, providing a scale-invariant measure of similarity that’s well-suited for text embeddings, where direction often matters more than magnitude.\n",
        "\n",
        "Euclidean Distance gives a straightforward measure of the absolute difference between embeddings in multi-dimensional space, indicating how far apart the vectors are in their original scale.\n",
        "\n",
        "Manhattan Distance calculates the total absolute differences along each dimension, which can be useful in certain cases where individual dimensions carry significant meaning.\n"
      ],
      "metadata": {
        "id": "JcPqjGwJ6nZc"
      }
    },
    {
      "cell_type": "code",
      "execution_count": null,
      "metadata": {
        "id": "D1kXzmEDm3yZ"
      },
      "outputs": [],
      "source": [
        "def calculate_similarity_metrics(embeddings_q1, embeddings_q2, batch_size=100):\n",
        "    \"\"\"\n",
        "    Calculates similarity metrics (cosine similarity, Euclidean distance, and Manhattan distance)\n",
        "    between two sets of BERT embeddings in batches.\n",
        "\n",
        "    Args:\n",
        "        embeddings_q1 (np.ndarray): Array of embeddings for the first set of questions.\n",
        "        embeddings_q2 (np.ndarray): Array of embeddings for the second set of questions.\n",
        "        batch_size (int): Number of samples to process in each batch.\n",
        "\n",
        "    Returns:\n",
        "        np.ndarray: Matrix containing cosine similarity, Euclidean distance, and Manhattan distance\n",
        "                    for each pair of embeddings.\n",
        "    \"\"\"\n",
        "    # Initialize an empty list to store similarity results for each batch\n",
        "    similarity_metrics = []\n",
        "\n",
        "    for i in range(0, embeddings_q1.shape[0], batch_size):\n",
        "        # Extract a batch for question1 embeddings\n",
        "        batch_q1 = embeddings_q1[i:i + batch_size]\n",
        "        # Extract the corresponding batch for question2 embeddings\n",
        "        batch_q2 = embeddings_q2[i:i + batch_size]\n",
        "\n",
        "        # Compute cosine similarity for this batch\n",
        "        cosine_similarities = np.sum(batch_q1 * batch_q2, axis=1) / (norm(batch_q1, axis=1) * norm(batch_q2, axis=1))\n",
        "\n",
        "        # Compute Euclidean distance for this batch\n",
        "        euclidean_distances = norm(batch_q1 - batch_q2, axis=1)\n",
        "\n",
        "        # Compute Manhattan distance for this batch\n",
        "        manhattan_distances = np.sum(np.abs(batch_q1 - batch_q2), axis=1)\n",
        "\n",
        "        # Combine metrics for the batch and append to the list\n",
        "        batch_metrics = np.column_stack((cosine_similarities, euclidean_distances, manhattan_distances))\n",
        "        similarity_metrics.append(batch_metrics)\n",
        "\n",
        "    # Stack all batches into a single matrix\n",
        "    similarity_metrics_matrix = np.vstack(similarity_metrics)\n",
        "\n",
        "    return similarity_metrics_matrix"
      ]
    },
    {
      "cell_type": "code",
      "execution_count": null,
      "metadata": {
        "id": "jH7bZviNyopH"
      },
      "outputs": [],
      "source": [
        "similarity_metrics_train = calculate_similarity_metrics(train_embeddings_q1, train_embeddings_q2)\n",
        "similarity_metrics_test = calculate_similarity_metrics(test_embeddings_q1, test_embeddings_q2)"
      ]
    },
    {
      "cell_type": "markdown",
      "metadata": {
        "id": "RFgi-186Aea1"
      },
      "source": [
        "Let's train the models on similarity metrics:"
      ]
    },
    {
      "cell_type": "code",
      "execution_count": null,
      "metadata": {
        "colab": {
          "base_uri": "https://localhost:8080/",
          "height": 668
        },
        "id": "ufQuLPbAAQGL",
        "outputId": "c1c7dade-57d5-4bcd-f5b5-da85f83364f6"
      },
      "outputs": [
        {
          "name": "stdout",
          "output_type": "stream",
          "text": [
            "Train Metrics (averaged across folds):\n",
            "Average Log loss: 0.59\n",
            "Average Precision score: 0.56\n",
            "Average Recall score: 0.38\n",
            "Average F1 score: 0.45\n",
            "\n",
            "Validation Metrics (averaged across folds):\n",
            "Average Log loss: 0.59\n",
            "Average Precision score: 0.56\n",
            "Average Recall score: 0.38\n",
            "Average F1 score: 0.45\n"
          ]
        },
        {
          "data": {
            "image/png": "[encoded data removed]",
            "text/plain": [
              "<Figure size 640x480 with 2 Axes>"
            ]
          },
          "metadata": {},
          "output_type": "display_data"
        }
      ],
      "source": [
        "lr = LogisticRegression(solver='sag')\n",
        "train_compute_metrics_cv(lr, similarity_metrics_train, y_train)"
      ]
    },
    {
      "cell_type": "code",
      "execution_count": null,
      "metadata": {
        "colab": {
          "base_uri": "https://localhost:8080/",
          "height": 668
        },
        "id": "dQLehIGGBHil",
        "outputId": "f441d0ae-8acf-4de1-888a-044977cbd9b3"
      },
      "outputs": [
        {
          "name": "stdout",
          "output_type": "stream",
          "text": [
            "Train Metrics (averaged across folds):\n",
            "Average Log loss: 0.57\n",
            "Average Precision score: 0.57\n",
            "Average Recall score: 0.52\n",
            "Average F1 score: 0.54\n",
            "\n",
            "Validation Metrics (averaged across folds):\n",
            "Average Log loss: 0.58\n",
            "Average Precision score: 0.55\n",
            "Average Recall score: 0.51\n",
            "Average F1 score: 0.53\n"
          ]
        },
        {
          "data": {
            "image/png": "[encoded data removed]",
            "text/plain": [
              "<Figure size 640x480 with 2 Axes>"
            ]
          },
          "metadata": {},
          "output_type": "display_data"
        }
      ],
      "source": [
        "xgb = XGBClassifier(objective='binary:logistic')\n",
        "train_compute_metrics_cv(xgb, similarity_metrics_train, y_train)"
      ]
    },
    {
      "cell_type": "markdown",
      "metadata": {
        "id": "lUOYGI8OAmMt"
      },
      "source": [
        "These models give poor results. Let's train the models on TF-IDF embeddings + similarity metrics:"
      ]
    },
    {
      "cell_type": "code",
      "execution_count": null,
      "metadata": {
        "id": "TJbbVBM3os7C"
      },
      "outputs": [],
      "source": [
        "# Stack the TF-IDF matrix and similarity metrics horizontally\n",
        "X_train_combined = hstack([X_train_tfidf, csr_matrix(similarity_metrics_train)])\n",
        "X_test_combined = hstack([X_test_tfidf, similarity_metrics_test])"
      ]
    },
    {
      "cell_type": "code",
      "execution_count": null,
      "metadata": {
        "colab": {
          "base_uri": "https://localhost:8080/",
          "height": 668
        },
        "id": "tQWYEcUo5gL_",
        "outputId": "eba99496-b15d-4c71-97c6-c1435876539f"
      },
      "outputs": [
        {
          "name": "stdout",
          "output_type": "stream",
          "text": [
            "Train Metrics (averaged across folds):\n",
            "Average Log loss: 0.51\n",
            "Average Precision score: 0.75\n",
            "Average Recall score: 0.46\n",
            "Average F1 score: 0.57\n",
            "\n",
            "Validation Metrics (averaged across folds):\n",
            "Average Log loss: 0.51\n",
            "Average Precision score: 0.74\n",
            "Average Recall score: 0.46\n",
            "Average F1 score: 0.56\n"
          ]
        },
        {
          "data": {
            "image/png": "[encoded data removed]",
            "text/plain": [
              "<Figure size 640x480 with 2 Axes>"
            ]
          },
          "metadata": {},
          "output_type": "display_data"
        }
      ],
      "source": [
        "nb = MultinomialNB()\n",
        "train_compute_metrics_cv(nb, X_train_combined, y_train)"
      ]
    },
    {
      "cell_type": "code",
      "execution_count": null,
      "metadata": {
        "colab": {
          "base_uri": "https://localhost:8080/",
          "height": 668
        },
        "id": "tmajzLNf-Z5e",
        "outputId": "8333b840-c7e5-4eba-8e7c-6234c767794f"
      },
      "outputs": [
        {
          "name": "stdout",
          "output_type": "stream",
          "text": [
            "Train Metrics (averaged across folds):\n",
            "Average Log loss: 0.45\n",
            "Average Precision score: 0.73\n",
            "Average Recall score: 0.64\n",
            "Average F1 score: 0.68\n",
            "\n",
            "Validation Metrics (averaged across folds):\n",
            "Average Log loss: 0.46\n",
            "Average Precision score: 0.72\n",
            "Average Recall score: 0.62\n",
            "Average F1 score: 0.67\n"
          ]
        },
        {
          "data": {
            "image/png": "[encoded data removed]",
            "text/plain": [
              "<Figure size 640x480 with 2 Axes>"
            ]
          },
          "metadata": {},
          "output_type": "display_data"
        }
      ],
      "source": [
        "lr = LogisticRegression(max_iter=4000)\n",
        "train_compute_metrics_cv(lr, X_train_combined, y_train)"
      ]
    },
    {
      "cell_type": "code",
      "execution_count": null,
      "metadata": {
        "colab": {
          "base_uri": "https://localhost:8080/",
          "height": 668
        },
        "id": "nDNmjKY7BAT4",
        "outputId": "49faddb3-57a6-43ef-c6ed-926e90ddfc73"
      },
      "outputs": [
        {
          "name": "stdout",
          "output_type": "stream",
          "text": [
            "Train Metrics (averaged across folds):\n",
            "Average Log loss: 0.47\n",
            "Average Precision score: 0.72\n",
            "Average Recall score: 0.63\n",
            "Average F1 score: 0.67\n",
            "\n",
            "Validation Metrics (averaged across folds):\n",
            "Average Log loss: 0.48\n",
            "Average Precision score: 0.70\n",
            "Average Recall score: 0.61\n",
            "Average F1 score: 0.66\n"
          ]
        },
        {
          "data": {
            "image/png": "[encoded data removed]",
            "text/plain": [
              "<Figure size 640x480 with 2 Axes>"
            ]
          },
          "metadata": {},
          "output_type": "display_data"
        }
      ],
      "source": [
        "xgb = XGBClassifier(objective='binary:logistic')\n",
        "train_compute_metrics_cv(xgb, X_train_combined, y_train)"
      ]
    },
    {
      "cell_type": "markdown",
      "source": [
        "Linear Regression again yields the best results and the addition of similarity metrics to the data led to the better performance."
      ],
      "metadata": {
        "id": "5x_uA7xHVKmm"
      }
    },
    {
      "cell_type": "markdown",
      "metadata": {
        "id": "wuPA5C-uyI81"
      },
      "source": [
        "# BERT"
      ]
    },
    {
      "cell_type": "markdown",
      "source": [
        "In this section, we'll explore a custom model built on top of the pre-trained BERT model. The custom model consists of the BERT model followed by a classification layer, which enables the model to make predictions for our specific classification task.\n",
        "\n",
        "Pre-trained BERT Model: The base BERT model is used to extract contextual embeddings from the input text. BERT is trained to capture relationships between words in a sentence.\n",
        "\n",
        "Classification Layer: After BERT generates embeddings for the input text, the output is passed through a classification layer. The purpose of the classification layer is to take the representations from BERT and map them to predictions.\n",
        "\n",
        "By using this custom model, we take advantage of BERT's rich language understanding and adapt it specifically for our classification problem."
      ],
      "metadata": {
        "id": "nftiBNuMxTOD"
      }
    },
    {
      "cell_type": "code",
      "execution_count": 52,
      "metadata": {
        "id": "YI6b7P4KHRGy"
      },
      "outputs": [],
      "source": [
        "class QuestionDataset(torch.utils.data.Dataset):\n",
        "    def __init__(self, questions1, questions2, labels, tokenizer, max_length=128):\n",
        "        self.questions1 = questions1\n",
        "        self.questions2 = questions2\n",
        "        self.labels = labels\n",
        "        self.tokenizer = tokenizer\n",
        "        self.max_length = max_length\n",
        "\n",
        "    def __len__(self):\n",
        "        return len(self.questions1)\n",
        "\n",
        "    def __getitem__(self, idx):\n",
        "        question1 = self.questions1[idx]\n",
        "        question2 = self.questions2[idx]\n",
        "        label = self.labels[idx]\n",
        "\n",
        "        # Tokenize and encode the questions into input format for BERT\n",
        "        encoding = self.tokenizer(\n",
        "            question1,\n",
        "            question2,\n",
        "            truncation=True,\n",
        "            padding='max_length',\n",
        "            max_length=self.max_length,\n",
        "            return_tensors='pt',\n",
        "            return_overflowing_tokens=False\n",
        "        )\n",
        "\n",
        "        # Get the input_ids, attention_mask, and token_type_ids\n",
        "        input_ids = encoding['input_ids'].squeeze(0)  # Remove the batch dimension\n",
        "        attention_mask = encoding['attention_mask'].squeeze(0)\n",
        "        token_type_ids = encoding['token_type_ids'].squeeze(0)\n",
        "\n",
        "        # Return them in the required format\n",
        "        return {\n",
        "            'input_ids': input_ids,\n",
        "            'attention_mask': attention_mask,\n",
        "            'token_type_ids': token_type_ids,\n",
        "            'labels': torch.tensor(label, dtype=torch.long)\n",
        "        }"
      ]
    },
    {
      "cell_type": "code",
      "source": [
        "class DuplicateTextClassifier(nn.Module):\n",
        "    def __init__(self, bert_model):\n",
        "        super(DuplicateTextClassifier, self).__init__()\n",
        "        self.bert = bert_model\n",
        "        self.classifier = nn.Linear(self.bert.config.hidden_size, 2)  # Output for classification\n",
        "\n",
        "    def forward(self, input_ids, attention_mask, token_type_ids, labels=None):\n",
        "        # Forward pass through BERT\n",
        "        outputs = self.bert(input_ids=input_ids,\n",
        "                            attention_mask=attention_mask,\n",
        "                            token_type_ids=token_type_ids)\n",
        "\n",
        "        # Use the [CLS] token embedding for classification\n",
        "        cls_embedding = outputs.last_hidden_state[:, 0, :]\n",
        "\n",
        "        logits = self.classifier(cls_embedding)\n",
        "\n",
        "        loss_fn = nn.CrossEntropyLoss()\n",
        "        loss = loss_fn(logits, labels)\n",
        "        return {\"loss\": loss, \"logits\": logits}"
      ],
      "metadata": {
        "id": "E3IaUfuQ-ORZ"
      },
      "execution_count": 68,
      "outputs": []
    },
    {
      "cell_type": "code",
      "source": [
        "# Load the pre-trained BERT model and tokenizer\n",
        "tokenizer = BertTokenizer.from_pretrained('bert-base-uncased')\n",
        "bert_model = BertModel.from_pretrained('bert-base-uncased')\n",
        "\n",
        "# Initialize your custom model\n",
        "model = DuplicateTextClassifier(bert_model)\n",
        "\n",
        "# Define the training arguments\n",
        "training_args = TrainingArguments(\n",
        "    output_dir='./results',\n",
        "    learning_rate=1e-5,\n",
        "    per_device_train_batch_size=16,\n",
        "    per_device_eval_batch_size=16,\n",
        "    num_train_epochs=5,\n",
        "    weight_decay=0.01,\n",
        "    save_steps=10_000,\n",
        "    save_total_limit=2,\n",
        "    report_to=[]\n",
        ")"
      ],
      "metadata": {
        "id": "1RkYINOS-Uij"
      },
      "execution_count": 69,
      "outputs": []
    },
    {
      "cell_type": "code",
      "source": [
        "# Split training data into train and validation sets\n",
        "train_df, val_df = train_test_split(df_train, test_size=0.2, stratify=df_train['is_duplicate'], random_state=42)\n",
        "\n",
        "# Prepare the datasets\n",
        "train_dataset = QuestionDataset(train_df['question1'].values,\n",
        "                                           train_df['question2'].values,\n",
        "                                           train_df['is_duplicate'].values,\n",
        "                                           tokenizer)\n",
        "\n",
        "val_dataset = QuestionDataset(val_df['question1'].values,\n",
        "                                         val_df['question2'].values,\n",
        "                                         val_df['is_duplicate'].values,\n",
        "                                         tokenizer)"
      ],
      "metadata": {
        "id": "GU96d2-BKRnu"
      },
      "execution_count": 70,
      "outputs": []
    },
    {
      "cell_type": "code",
      "source": [
        "# Define a function to compute metrics\n",
        "def compute_metrics(pred):\n",
        "    labels = pred.label_ids\n",
        "    preds = np.argmax(pred.predictions, axis=1)\n",
        "\n",
        "    precision = precision_score(labels, preds, average=\"binary\")\n",
        "    recall = recall_score(labels, preds, average=\"binary\")\n",
        "    f1 = f1_score(labels, preds, average=\"binary\")\n",
        "\n",
        "    return {\n",
        "        \"precision\": precision,\n",
        "        \"recall\": recall,\n",
        "        \"f1\": f1,\n",
        "    }\n",
        "\n",
        "# Initialize the Trainer\n",
        "trainer = Trainer(\n",
        "    model=model,\n",
        "    args=training_args,\n",
        "    train_dataset=train_dataset,\n",
        "    eval_dataset=val_dataset,\n",
        "    compute_metrics=compute_metrics\n",
        ")\n",
        "\n",
        "# Train the model\n",
        "trainer.train()"
      ],
      "metadata": {
        "id": "NAi3ZUOk_ZKY"
      },
      "execution_count": null,
      "outputs": []
    },
    {
      "cell_type": "code",
      "source": [
        "val_metrics = trainer.evaluate(eval_dataset=val_dataset)"
      ],
      "metadata": {
        "id": "a4t2G_Q3YiIA"
      },
      "execution_count": null,
      "outputs": []
    },
    {
      "cell_type": "code",
      "source": [
        "val_metrics"
      ],
      "metadata": {
        "colab": {
          "base_uri": "https://localhost:8080/"
        },
        "id": "T9lOa0nuZHLs",
        "outputId": "5492f591-e533-462b-8a61-39bd428f8685"
      },
      "execution_count": 86,
      "outputs": [
        {
          "output_type": "execute_result",
          "data": {
            "text/plain": [
              "{'eval_loss': 0.4485779404640198,\n",
              " 'eval_precision': 0.8608988946684005,\n",
              " 'eval_recall': 0.8870697596516205,\n",
              " 'eval_f1': 0.8737884099814395,\n",
              " 'eval_runtime': 159.3841,\n",
              " 'eval_samples_per_second': 405.85,\n",
              " 'eval_steps_per_second': 25.366,\n",
              " 'epoch': 5.0}"
            ]
          },
          "metadata": {},
          "execution_count": 86
        }
      ]
    },
    {
      "cell_type": "markdown",
      "source": [
        "This model outperforms all the other models. Let's check how it will perform on the test dataset:"
      ],
      "metadata": {
        "id": "zhrRH5eHV59z"
      }
    },
    {
      "cell_type": "code",
      "source": [
        "test_dataset = QuestionDataset(df_test['question1'].values,\n",
        "                df_test['question2'].values,\n",
        "                df_test['is_duplicate'].values,\n",
        "                tokenizer)\n",
        "\n",
        "predictions = trainer.predict(test_dataset)\n",
        "\n",
        "preds = predictions.predictions\n",
        "labels = predictions.label_ids\n",
        "metrics = predictions.metrics\n",
        "\n",
        "pred_labels = np.argmax(preds, axis=1)"
      ],
      "metadata": {
        "id": "ghEm5WZKL30u"
      },
      "execution_count": null,
      "outputs": []
    },
    {
      "cell_type": "code",
      "source": [
        "metrics"
      ],
      "metadata": {
        "colab": {
          "base_uri": "https://localhost:8080/"
        },
        "id": "e1oQcepEsTqq",
        "outputId": "801c856b-a627-4a62-9e5a-0eb661858a44"
      },
      "execution_count": 73,
      "outputs": [
        {
          "output_type": "execute_result",
          "data": {
            "text/plain": [
              "{'test_loss': 0.4520483613014221,\n",
              " 'test_precision': 0.8593810821331257,\n",
              " 'test_recall': 0.8874484976384283,\n",
              " 'test_f1': 0.8731893014287833,\n",
              " 'test_runtime': 198.0386,\n",
              " 'test_samples_per_second': 408.294,\n",
              " 'test_steps_per_second': 25.52}"
            ]
          },
          "metadata": {},
          "execution_count": 73
        }
      ]
    },
    {
      "cell_type": "markdown",
      "source": [
        "Log loss is relatively high, but the other metrics - precision, recall and f1 on the test dataset are really good."
      ],
      "metadata": {
        "id": "zuE6W8sLWBvv"
      }
    },
    {
      "cell_type": "markdown",
      "source": [
        "#Incorrect Predictions Analysis\n"
      ],
      "metadata": {
        "id": "G9GGOjpnuc3U"
      }
    },
    {
      "cell_type": "code",
      "source": [
        "df_test['pred_labels'] = pred_labels"
      ],
      "metadata": {
        "id": "pHdqW5gesT5F"
      },
      "execution_count": 74,
      "outputs": []
    },
    {
      "cell_type": "code",
      "source": [
        "false_positives = df_test[(df_test['is_duplicate']==0) & (df_test['pred_labels']==1)]\n",
        "false_negatives = df_test[(df_test['is_duplicate']==1) & (df_test['pred_labels']==0)]"
      ],
      "metadata": {
        "id": "cvnYddnSs_3u"
      },
      "execution_count": 75,
      "outputs": []
    },
    {
      "cell_type": "code",
      "source": [
        "false_positives.head(10)"
      ],
      "metadata": {
        "colab": {
          "base_uri": "https://localhost:8080/",
          "height": 363
        },
        "id": "XwVBf7ibtHtW",
        "outputId": "0aa47d42-f250-434f-f90b-f48630fbd2d0"
      },
      "execution_count": 79,
      "outputs": [
        {
          "output_type": "execute_result",
          "data": {
            "text/plain": [
              "         id    qid1    qid2  \\\n",
              "15   352941  481920  481921   \n",
              "25   221339  328668    7124   \n",
              "57   220470  140081  327566   \n",
              "67   232459  342484  342485   \n",
              "76   365445  495560  495561   \n",
              "84   331429  458325  458326   \n",
              "85     4380    8657    8658   \n",
              "120  363808  493830  493831   \n",
              "122  388564  520974   55035   \n",
              "161  247211  360397  121222   \n",
              "\n",
              "                                             question1  \\\n",
              "15                               What is blacking out?   \n",
              "25       How do I raise funds for early stage startup?   \n",
              "57                    Can you get the same cold twice?   \n",
              "67       What are the impacts of population explosion?   \n",
              "76                             Is it good to be sober?   \n",
              "84   How different would Harry Potter have been had...   \n",
              "85          How can I join indian army special forces?   \n",
              "120                              How do elephants eat?   \n",
              "122              How can I start a successful startup?   \n",
              "161            What are the disadvantages of whatsapp?   \n",
              "\n",
              "                                             question2  is_duplicate  \\\n",
              "15                                  What is Black out?             0   \n",
              "25   What are the best ways to raise funds for a st...             0   \n",
              "57        Can you get multiple colds at the same time?             0   \n",
              "67   Is India doomed with such high population expl...             0   \n",
              "76                        What is it like to be sober?             0   \n",
              "84   If Harry Potter survived Voldemort's attack wh...             0   \n",
              "85                     How can I get into Indian army?             0   \n",
              "120                             What do elephants eat?             0   \n",
              "122                       How can I develop a startup?             0   \n",
              "161  What are the advantages and disadvantages of W...             0   \n",
              "\n",
              "     pred_labels  \n",
              "15             1  \n",
              "25             1  \n",
              "57             1  \n",
              "67             1  \n",
              "76             1  \n",
              "84             1  \n",
              "85             1  \n",
              "120            1  \n",
              "122            1  \n",
              "161            1  "
            ],
            "text/html": [
              "\n",
              "  <div id=\"df-a1ca60df-1afc-4aa8-a1b5-0e2f6f14b934\" class=\"colab-df-container\">\n",
              "    <div>\n",
              "<style scoped>\n",
              "    .dataframe tbody tr th:only-of-type {\n",
              "        vertical-align: middle;\n",
              "    }\n",
              "\n",
              "    .dataframe tbody tr th {\n",
              "        vertical-align: top;\n",
              "    }\n",
              "\n",
              "    .dataframe thead th {\n",
              "        text-align: right;\n",
              "    }\n",
              "</style>\n",
              "<table border=\"1\" class=\"dataframe\">\n",
              "  <thead>\n",
              "    <tr style=\"text-align: right;\">\n",
              "      <th></th>\n",
              "      <th>id</th>\n",
              "      <th>qid1</th>\n",
              "      <th>qid2</th>\n",
              "      <th>question1</th>\n",
              "      <th>question2</th>\n",
              "      <th>is_duplicate</th>\n",
              "      <th>pred_labels</th>\n",
              "    </tr>\n",
              "  </thead>\n",
              "  <tbody>\n",
              "    <tr>\n",
              "      <th>15</th>\n",
              "      <td>352941</td>\n",
              "      <td>481920</td>\n",
              "      <td>481921</td>\n",
              "      <td>What is blacking out?</td>\n",
              "      <td>What is Black out?</td>\n",
              "      <td>0</td>\n",
              "      <td>1</td>\n",
              "    </tr>\n",
              "    <tr>\n",
              "      <th>25</th>\n",
              "      <td>221339</td>\n",
              "      <td>328668</td>\n",
              "      <td>7124</td>\n",
              "      <td>How do I raise funds for early stage startup?</td>\n",
              "      <td>What are the best ways to raise funds for a st...</td>\n",
              "      <td>0</td>\n",
              "      <td>1</td>\n",
              "    </tr>\n",
              "    <tr>\n",
              "      <th>57</th>\n",
              "      <td>220470</td>\n",
              "      <td>140081</td>\n",
              "      <td>327566</td>\n",
              "      <td>Can you get the same cold twice?</td>\n",
              "      <td>Can you get multiple colds at the same time?</td>\n",
              "      <td>0</td>\n",
              "      <td>1</td>\n",
              "    </tr>\n",
              "    <tr>\n",
              "      <th>67</th>\n",
              "      <td>232459</td>\n",
              "      <td>342484</td>\n",
              "      <td>342485</td>\n",
              "      <td>What are the impacts of population explosion?</td>\n",
              "      <td>Is India doomed with such high population expl...</td>\n",
              "      <td>0</td>\n",
              "      <td>1</td>\n",
              "    </tr>\n",
              "    <tr>\n",
              "      <th>76</th>\n",
              "      <td>365445</td>\n",
              "      <td>495560</td>\n",
              "      <td>495561</td>\n",
              "      <td>Is it good to be sober?</td>\n",
              "      <td>What is it like to be sober?</td>\n",
              "      <td>0</td>\n",
              "      <td>1</td>\n",
              "    </tr>\n",
              "    <tr>\n",
              "      <th>84</th>\n",
              "      <td>331429</td>\n",
              "      <td>458325</td>\n",
              "      <td>458326</td>\n",
              "      <td>How different would Harry Potter have been had...</td>\n",
              "      <td>If Harry Potter survived Voldemort's attack wh...</td>\n",
              "      <td>0</td>\n",
              "      <td>1</td>\n",
              "    </tr>\n",
              "    <tr>\n",
              "      <th>85</th>\n",
              "      <td>4380</td>\n",
              "      <td>8657</td>\n",
              "      <td>8658</td>\n",
              "      <td>How can I join indian army special forces?</td>\n",
              "      <td>How can I get into Indian army?</td>\n",
              "      <td>0</td>\n",
              "      <td>1</td>\n",
              "    </tr>\n",
              "    <tr>\n",
              "      <th>120</th>\n",
              "      <td>363808</td>\n",
              "      <td>493830</td>\n",
              "      <td>493831</td>\n",
              "      <td>How do elephants eat?</td>\n",
              "      <td>What do elephants eat?</td>\n",
              "      <td>0</td>\n",
              "      <td>1</td>\n",
              "    </tr>\n",
              "    <tr>\n",
              "      <th>122</th>\n",
              "      <td>388564</td>\n",
              "      <td>520974</td>\n",
              "      <td>55035</td>\n",
              "      <td>How can I start a successful startup?</td>\n",
              "      <td>How can I develop a startup?</td>\n",
              "      <td>0</td>\n",
              "      <td>1</td>\n",
              "    </tr>\n",
              "    <tr>\n",
              "      <th>161</th>\n",
              "      <td>247211</td>\n",
              "      <td>360397</td>\n",
              "      <td>121222</td>\n",
              "      <td>What are the disadvantages of whatsapp?</td>\n",
              "      <td>What are the advantages and disadvantages of W...</td>\n",
              "      <td>0</td>\n",
              "      <td>1</td>\n",
              "    </tr>\n",
              "  </tbody>\n",
              "</table>\n",
              "</div>\n",
              "    <div class=\"colab-df-buttons\">\n",
              "\n",
              "  <div class=\"colab-df-container\">\n",
              "    <button class=\"colab-df-convert\" onclick=\"convertToInteractive('df-a1ca60df-1afc-4aa8-a1b5-0e2f6f14b934')\"\n",
              "            title=\"Convert this dataframe to an interactive table.\"\n",
              "            style=\"display:none;\">\n",
              "\n",
              "  <svg xmlns=\"http://www.w3.org/2000/svg\" height=\"24px\" viewBox=\"0 -960 960 960\">\n",
              "    <path d=\"M120-120v-720h720v720H120Zm60-500h600v-160H180v160Zm220 220h160v-160H400v160Zm0 220h160v-160H400v160ZM180-400h160v-160H180v160Zm440 0h160v-160H620v160ZM180-180h160v-160H180v160Zm440 0h160v-160H620v160Z\"/>\n",
              "  </svg>\n",
              "    </button>\n",
              "\n",
              "  <style>\n",
              "    .colab-df-container {\n",
              "      display:flex;\n",
              "      gap: 12px;\n",
              "    }\n",
              "\n",
              "    .colab-df-convert {\n",
              "      background-color: #E8F0FE;\n",
              "      border: none;\n",
              "      border-radius: 50%;\n",
              "      cursor: pointer;\n",
              "      display: none;\n",
              "      fill: #1967D2;\n",
              "      height: 32px;\n",
              "      padding: 0 0 0 0;\n",
              "      width: 32px;\n",
              "    }\n",
              "\n",
              "    .colab-df-convert:hover {\n",
              "      background-color: #E2EBFA;\n",
              "      box-shadow: 0px 1px 2px rgba(60, 64, 67, 0.3), 0px 1px 3px 1px rgba(60, 64, 67, 0.15);\n",
              "      fill: #174EA6;\n",
              "    }\n",
              "\n",
              "    .colab-df-buttons div {\n",
              "      margin-bottom: 4px;\n",
              "    }\n",
              "\n",
              "    [theme=dark] .colab-df-convert {\n",
              "      background-color: #3B4455;\n",
              "      fill: #D2E3FC;\n",
              "    }\n",
              "\n",
              "    [theme=dark] .colab-df-convert:hover {\n",
              "      background-color: #434B5C;\n",
              "      box-shadow: 0px 1px 3px 1px rgba(0, 0, 0, 0.15);\n",
              "      filter: drop-shadow(0px 1px 2px rgba(0, 0, 0, 0.3));\n",
              "      fill: #FFFFFF;\n",
              "    }\n",
              "  </style>\n",
              "\n",
              "    <script>\n",
              "      const buttonEl =\n",
              "        document.querySelector('#df-a1ca60df-1afc-4aa8-a1b5-0e2f6f14b934 button.colab-df-convert');\n",
              "      buttonEl.style.display =\n",
              "        google.colab.kernel.accessAllowed ? 'block' : 'none';\n",
              "\n",
              "      async function convertToInteractive(key) {\n",
              "        const element = document.querySelector('#df-a1ca60df-1afc-4aa8-a1b5-0e2f6f14b934');\n",
              "        const dataTable =\n",
              "          await google.colab.kernel.invokeFunction('convertToInteractive',\n",
              "                                                    [key], {});\n",
              "        if (!dataTable) return;\n",
              "\n",
              "        const docLinkHtml = 'Like what you see? Visit the ' +\n",
              "          '<a target=\"_blank\" href=https://colab.research.google.com/notebooks/data_table.ipynb>data table notebook</a>'\n",
              "          + ' to learn more about interactive tables.';\n",
              "        element.innerHTML = '';\n",
              "        dataTable['output_type'] = 'display_data';\n",
              "        await google.colab.output.renderOutput(dataTable, element);\n",
              "        const docLink = document.createElement('div');\n",
              "        docLink.innerHTML = docLinkHtml;\n",
              "        element.appendChild(docLink);\n",
              "      }\n",
              "    </script>\n",
              "  </div>\n",
              "\n",
              "\n",
              "<div id=\"df-e9dec9ce-24f9-4f40-98f9-7cda43248189\">\n",
              "  <button class=\"colab-df-quickchart\" onclick=\"quickchart('df-e9dec9ce-24f9-4f40-98f9-7cda43248189')\"\n",
              "            title=\"Suggest charts\"\n",
              "            style=\"display:none;\">\n",
              "\n",
              "<svg xmlns=\"http://www.w3.org/2000/svg\" height=\"24px\"viewBox=\"0 0 24 24\"\n",
              "     width=\"24px\">\n",
              "    <g>\n",
              "        <path d=\"M19 3H5c-1.1 0-2 .9-2 2v14c0 1.1.9 2 2 2h14c1.1 0 2-.9 2-2V5c0-1.1-.9-2-2-2zM9 17H7v-7h2v7zm4 0h-2V7h2v10zm4 0h-2v-4h2v4z\"/>\n",
              "    </g>\n",
              "</svg>\n",
              "  </button>\n",
              "\n",
              "<style>\n",
              "  .colab-df-quickchart {\n",
              "      --bg-color: #E8F0FE;\n",
              "      --fill-color: #1967D2;\n",
              "      --hover-bg-color: #E2EBFA;\n",
              "      --hover-fill-color: #174EA6;\n",
              "      --disabled-fill-color: #AAA;\n",
              "      --disabled-bg-color: #DDD;\n",
              "  }\n",
              "\n",
              "  [theme=dark] .colab-df-quickchart {\n",
              "      --bg-color: #3B4455;\n",
              "      --fill-color: #D2E3FC;\n",
              "      --hover-bg-color: #434B5C;\n",
              "      --hover-fill-color: #FFFFFF;\n",
              "      --disabled-bg-color: #3B4455;\n",
              "      --disabled-fill-color: #666;\n",
              "  }\n",
              "\n",
              "  .colab-df-quickchart {\n",
              "    background-color: var(--bg-color);\n",
              "    border: none;\n",
              "    border-radius: 50%;\n",
              "    cursor: pointer;\n",
              "    display: none;\n",
              "    fill: var(--fill-color);\n",
              "    height: 32px;\n",
              "    padding: 0;\n",
              "    width: 32px;\n",
              "  }\n",
              "\n",
              "  .colab-df-quickchart:hover {\n",
              "    background-color: var(--hover-bg-color);\n",
              "    box-shadow: 0 1px 2px rgba(60, 64, 67, 0.3), 0 1px 3px 1px rgba(60, 64, 67, 0.15);\n",
              "    fill: var(--button-hover-fill-color);\n",
              "  }\n",
              "\n",
              "  .colab-df-quickchart-complete:disabled,\n",
              "  .colab-df-quickchart-complete:disabled:hover {\n",
              "    background-color: var(--disabled-bg-color);\n",
              "    fill: var(--disabled-fill-color);\n",
              "    box-shadow: none;\n",
              "  }\n",
              "\n",
              "  .colab-df-spinner {\n",
              "    border: 2px solid var(--fill-color);\n",
              "    border-color: transparent;\n",
              "    border-bottom-color: var(--fill-color);\n",
              "    animation:\n",
              "      spin 1s steps(1) infinite;\n",
              "  }\n",
              "\n",
              "  @keyframes spin {\n",
              "    0% {\n",
              "      border-color: transparent;\n",
              "      border-bottom-color: var(--fill-color);\n",
              "      border-left-color: var(--fill-color);\n",
              "    }\n",
              "    20% {\n",
              "      border-color: transparent;\n",
              "      border-left-color: var(--fill-color);\n",
              "      border-top-color: var(--fill-color);\n",
              "    }\n",
              "    30% {\n",
              "      border-color: transparent;\n",
              "      border-left-color: var(--fill-color);\n",
              "      border-top-color: var(--fill-color);\n",
              "      border-right-color: var(--fill-color);\n",
              "    }\n",
              "    40% {\n",
              "      border-color: transparent;\n",
              "      border-right-color: var(--fill-color);\n",
              "      border-top-color: var(--fill-color);\n",
              "    }\n",
              "    60% {\n",
              "      border-color: transparent;\n",
              "      border-right-color: var(--fill-color);\n",
              "    }\n",
              "    80% {\n",
              "      border-color: transparent;\n",
              "      border-right-color: var(--fill-color);\n",
              "      border-bottom-color: var(--fill-color);\n",
              "    }\n",
              "    90% {\n",
              "      border-color: transparent;\n",
              "      border-bottom-color: var(--fill-color);\n",
              "    }\n",
              "  }\n",
              "</style>\n",
              "\n",
              "  <script>\n",
              "    async function quickchart(key) {\n",
              "      const quickchartButtonEl =\n",
              "        document.querySelector('#' + key + ' button');\n",
              "      quickchartButtonEl.disabled = true;  // To prevent multiple clicks.\n",
              "      quickchartButtonEl.classList.add('colab-df-spinner');\n",
              "      try {\n",
              "        const charts = await google.colab.kernel.invokeFunction(\n",
              "            'suggestCharts', [key], {});\n",
              "      } catch (error) {\n",
              "        console.error('Error during call to suggestCharts:', error);\n",
              "      }\n",
              "      quickchartButtonEl.classList.remove('colab-df-spinner');\n",
              "      quickchartButtonEl.classList.add('colab-df-quickchart-complete');\n",
              "    }\n",
              "    (() => {\n",
              "      let quickchartButtonEl =\n",
              "        document.querySelector('#df-e9dec9ce-24f9-4f40-98f9-7cda43248189 button');\n",
              "      quickchartButtonEl.style.display =\n",
              "        google.colab.kernel.accessAllowed ? 'block' : 'none';\n",
              "    })();\n",
              "  </script>\n",
              "</div>\n",
              "    </div>\n",
              "  </div>\n"
            ],
            "application/vnd.google.colaboratory.intrinsic+json": {
              "type": "dataframe",
              "variable_name": "false_positives",
              "summary": "{\n  \"name\": \"false_positives\",\n  \"rows\": 4335,\n  \"fields\": [\n    {\n      \"column\": \"id\",\n      \"properties\": {\n        \"dtype\": \"number\",\n        \"std\": 117813,\n        \"min\": 35,\n        \"max\": 404088,\n        \"num_unique_values\": 4335,\n        \"samples\": [\n          105222,\n          277,\n          350668\n        ],\n        \"semantic_type\": \"\",\n        \"description\": \"\"\n      }\n    },\n    {\n      \"column\": \"qid1\",\n      \"properties\": {\n        \"dtype\": \"number\",\n        \"std\": 156829,\n        \"min\": 3,\n        \"max\": 537576,\n        \"num_unique_values\": 4289,\n        \"samples\": [\n          330064,\n          121830,\n          137046\n        ],\n        \"semantic_type\": \"\",\n        \"description\": \"\"\n      }\n    },\n    {\n      \"column\": \"qid2\",\n      \"properties\": {\n        \"dtype\": \"number\",\n        \"std\": 159293,\n        \"min\": 72,\n        \"max\": 537659,\n        \"num_unique_values\": 4250,\n        \"samples\": [\n          46649,\n          18298,\n          161689\n        ],\n        \"semantic_type\": \"\",\n        \"description\": \"\"\n      }\n    },\n    {\n      \"column\": \"question1\",\n      \"properties\": {\n        \"dtype\": \"string\",\n        \"num_unique_values\": 4289,\n        \"samples\": [\n          \"How can I help my alcoholic friend?\",\n          \"How fast does a 747 need to go to take off?\",\n          \"What does it mean when your car won't start and it makes a clicking noise?\"\n        ],\n        \"semantic_type\": \"\",\n        \"description\": \"\"\n      }\n    },\n    {\n      \"column\": \"question2\",\n      \"properties\": {\n        \"dtype\": \"string\",\n        \"num_unique_values\": 4249,\n        \"samples\": [\n          \"What are some of the most interesting iTunes U courses or collections for beginners in any given discipline?\",\n          \"How can you earn $100 online?\",\n          \"Can you use watercolor on normal canvas?\"\n        ],\n        \"semantic_type\": \"\",\n        \"description\": \"\"\n      }\n    },\n    {\n      \"column\": \"is_duplicate\",\n      \"properties\": {\n        \"dtype\": \"number\",\n        \"std\": 0,\n        \"min\": 0,\n        \"max\": 0,\n        \"num_unique_values\": 1,\n        \"samples\": [\n          0\n        ],\n        \"semantic_type\": \"\",\n        \"description\": \"\"\n      }\n    },\n    {\n      \"column\": \"pred_labels\",\n      \"properties\": {\n        \"dtype\": \"number\",\n        \"std\": 0,\n        \"min\": 1,\n        \"max\": 1,\n        \"num_unique_values\": 1,\n        \"samples\": [\n          1\n        ],\n        \"semantic_type\": \"\",\n        \"description\": \"\"\n      }\n    }\n  ]\n}"
            }
          },
          "metadata": {},
          "execution_count": 79
        }
      ]
    },
    {
      "cell_type": "code",
      "source": [
        "false_negatives.head(10)"
      ],
      "metadata": {
        "colab": {
          "base_uri": "https://localhost:8080/",
          "height": 363
        },
        "id": "pUHT4Uygt1sd",
        "outputId": "2b1d6824-da3f-4c77-a077-764440cf88d3"
      },
      "execution_count": 78,
      "outputs": [
        {
          "output_type": "execute_result",
          "data": {
            "text/plain": [
              "         id    qid1    qid2  \\\n",
              "10    72876  125134  125135   \n",
              "48    71988  123786  123787   \n",
              "51   337921  157189  215866   \n",
              "88   236072   59036  346907   \n",
              "97   208587  312626  312627   \n",
              "101   58716    8143  102952   \n",
              "117  365987  382231  496125   \n",
              "128  272067  390266  352395   \n",
              "153   57724  101406  101407   \n",
              "191    4273    8449    8450   \n",
              "\n",
              "                                             question1  \\\n",
              "10                     What is the best thing in pune?   \n",
              "48       What's it like dating someone with a high IQ?   \n",
              "51   When is it too late to study medicine and beco...   \n",
              "88   How do I retrieve old chats after deleting a W...   \n",
              "97                    How many ways we can save water?   \n",
              "101          Can India, Pakistan and Bangladesh unite?   \n",
              "117      How accurate is Neil deGrasse Tyson's Cosmos?   \n",
              "128  Is there a limit to how much a supermassive bl...   \n",
              "153  What is sympatric speciation? What are some ex...   \n",
              "191  What do teachers think of students who are mod...   \n",
              "\n",
              "                                             question2  is_duplicate  \\\n",
              "10        What are the best things you can do in Pune?             1   \n",
              "48      What is it like to date someone with a 150 IQ?             1   \n",
              "51   I'm 37 years old, am I too old to go to school...             1   \n",
              "88   How do I retrieve whatsapp chats from my old p...             1   \n",
              "97                              How we can save water?             1   \n",
              "101  Will India, Pakistan and Afghanistan ever unit...             1   \n",
              "117  What are the inaccuracies in Neil deGrasse Tys...             1   \n",
              "128        Do black holes have a limit / max capacity?             1   \n",
              "153                                What is speciation?             1   \n",
              "191                What do teachers think of students?             1   \n",
              "\n",
              "     pred_labels  \n",
              "10             0  \n",
              "48             0  \n",
              "51             0  \n",
              "88             0  \n",
              "97             0  \n",
              "101            0  \n",
              "117            0  \n",
              "128            0  \n",
              "153            0  \n",
              "191            0  "
            ],
            "text/html": [
              "\n",
              "  <div id=\"df-b21df0bc-0c43-4469-b94d-3614a62a36f7\" class=\"colab-df-container\">\n",
              "    <div>\n",
              "<style scoped>\n",
              "    .dataframe tbody tr th:only-of-type {\n",
              "        vertical-align: middle;\n",
              "    }\n",
              "\n",
              "    .dataframe tbody tr th {\n",
              "        vertical-align: top;\n",
              "    }\n",
              "\n",
              "    .dataframe thead th {\n",
              "        text-align: right;\n",
              "    }\n",
              "</style>\n",
              "<table border=\"1\" class=\"dataframe\">\n",
              "  <thead>\n",
              "    <tr style=\"text-align: right;\">\n",
              "      <th></th>\n",
              "      <th>id</th>\n",
              "      <th>qid1</th>\n",
              "      <th>qid2</th>\n",
              "      <th>question1</th>\n",
              "      <th>question2</th>\n",
              "      <th>is_duplicate</th>\n",
              "      <th>pred_labels</th>\n",
              "    </tr>\n",
              "  </thead>\n",
              "  <tbody>\n",
              "    <tr>\n",
              "      <th>10</th>\n",
              "      <td>72876</td>\n",
              "      <td>125134</td>\n",
              "      <td>125135</td>\n",
              "      <td>What is the best thing in pune?</td>\n",
              "      <td>What are the best things you can do in Pune?</td>\n",
              "      <td>1</td>\n",
              "      <td>0</td>\n",
              "    </tr>\n",
              "    <tr>\n",
              "      <th>48</th>\n",
              "      <td>71988</td>\n",
              "      <td>123786</td>\n",
              "      <td>123787</td>\n",
              "      <td>What's it like dating someone with a high IQ?</td>\n",
              "      <td>What is it like to date someone with a 150 IQ?</td>\n",
              "      <td>1</td>\n",
              "      <td>0</td>\n",
              "    </tr>\n",
              "    <tr>\n",
              "      <th>51</th>\n",
              "      <td>337921</td>\n",
              "      <td>157189</td>\n",
              "      <td>215866</td>\n",
              "      <td>When is it too late to study medicine and beco...</td>\n",
              "      <td>I'm 37 years old, am I too old to go to school...</td>\n",
              "      <td>1</td>\n",
              "      <td>0</td>\n",
              "    </tr>\n",
              "    <tr>\n",
              "      <th>88</th>\n",
              "      <td>236072</td>\n",
              "      <td>59036</td>\n",
              "      <td>346907</td>\n",
              "      <td>How do I retrieve old chats after deleting a W...</td>\n",
              "      <td>How do I retrieve whatsapp chats from my old p...</td>\n",
              "      <td>1</td>\n",
              "      <td>0</td>\n",
              "    </tr>\n",
              "    <tr>\n",
              "      <th>97</th>\n",
              "      <td>208587</td>\n",
              "      <td>312626</td>\n",
              "      <td>312627</td>\n",
              "      <td>How many ways we can save water?</td>\n",
              "      <td>How we can save water?</td>\n",
              "      <td>1</td>\n",
              "      <td>0</td>\n",
              "    </tr>\n",
              "    <tr>\n",
              "      <th>101</th>\n",
              "      <td>58716</td>\n",
              "      <td>8143</td>\n",
              "      <td>102952</td>\n",
              "      <td>Can India, Pakistan and Bangladesh unite?</td>\n",
              "      <td>Will India, Pakistan and Afghanistan ever unit...</td>\n",
              "      <td>1</td>\n",
              "      <td>0</td>\n",
              "    </tr>\n",
              "    <tr>\n",
              "      <th>117</th>\n",
              "      <td>365987</td>\n",
              "      <td>382231</td>\n",
              "      <td>496125</td>\n",
              "      <td>How accurate is Neil deGrasse Tyson's Cosmos?</td>\n",
              "      <td>What are the inaccuracies in Neil deGrasse Tys...</td>\n",
              "      <td>1</td>\n",
              "      <td>0</td>\n",
              "    </tr>\n",
              "    <tr>\n",
              "      <th>128</th>\n",
              "      <td>272067</td>\n",
              "      <td>390266</td>\n",
              "      <td>352395</td>\n",
              "      <td>Is there a limit to how much a supermassive bl...</td>\n",
              "      <td>Do black holes have a limit / max capacity?</td>\n",
              "      <td>1</td>\n",
              "      <td>0</td>\n",
              "    </tr>\n",
              "    <tr>\n",
              "      <th>153</th>\n",
              "      <td>57724</td>\n",
              "      <td>101406</td>\n",
              "      <td>101407</td>\n",
              "      <td>What is sympatric speciation? What are some ex...</td>\n",
              "      <td>What is speciation?</td>\n",
              "      <td>1</td>\n",
              "      <td>0</td>\n",
              "    </tr>\n",
              "    <tr>\n",
              "      <th>191</th>\n",
              "      <td>4273</td>\n",
              "      <td>8449</td>\n",
              "      <td>8450</td>\n",
              "      <td>What do teachers think of students who are mod...</td>\n",
              "      <td>What do teachers think of students?</td>\n",
              "      <td>1</td>\n",
              "      <td>0</td>\n",
              "    </tr>\n",
              "  </tbody>\n",
              "</table>\n",
              "</div>\n",
              "    <div class=\"colab-df-buttons\">\n",
              "\n",
              "  <div class=\"colab-df-container\">\n",
              "    <button class=\"colab-df-convert\" onclick=\"convertToInteractive('df-b21df0bc-0c43-4469-b94d-3614a62a36f7')\"\n",
              "            title=\"Convert this dataframe to an interactive table.\"\n",
              "            style=\"display:none;\">\n",
              "\n",
              "  <svg xmlns=\"http://www.w3.org/2000/svg\" height=\"24px\" viewBox=\"0 -960 960 960\">\n",
              "    <path d=\"M120-120v-720h720v720H120Zm60-500h600v-160H180v160Zm220 220h160v-160H400v160Zm0 220h160v-160H400v160ZM180-400h160v-160H180v160Zm440 0h160v-160H620v160ZM180-180h160v-160H180v160Zm440 0h160v-160H620v160Z\"/>\n",
              "  </svg>\n",
              "    </button>\n",
              "\n",
              "  <style>\n",
              "    .colab-df-container {\n",
              "      display:flex;\n",
              "      gap: 12px;\n",
              "    }\n",
              "\n",
              "    .colab-df-convert {\n",
              "      background-color: #E8F0FE;\n",
              "      border: none;\n",
              "      border-radius: 50%;\n",
              "      cursor: pointer;\n",
              "      display: none;\n",
              "      fill: #1967D2;\n",
              "      height: 32px;\n",
              "      padding: 0 0 0 0;\n",
              "      width: 32px;\n",
              "    }\n",
              "\n",
              "    .colab-df-convert:hover {\n",
              "      background-color: #E2EBFA;\n",
              "      box-shadow: 0px 1px 2px rgba(60, 64, 67, 0.3), 0px 1px 3px 1px rgba(60, 64, 67, 0.15);\n",
              "      fill: #174EA6;\n",
              "    }\n",
              "\n",
              "    .colab-df-buttons div {\n",
              "      margin-bottom: 4px;\n",
              "    }\n",
              "\n",
              "    [theme=dark] .colab-df-convert {\n",
              "      background-color: #3B4455;\n",
              "      fill: #D2E3FC;\n",
              "    }\n",
              "\n",
              "    [theme=dark] .colab-df-convert:hover {\n",
              "      background-color: #434B5C;\n",
              "      box-shadow: 0px 1px 3px 1px rgba(0, 0, 0, 0.15);\n",
              "      filter: drop-shadow(0px 1px 2px rgba(0, 0, 0, 0.3));\n",
              "      fill: #FFFFFF;\n",
              "    }\n",
              "  </style>\n",
              "\n",
              "    <script>\n",
              "      const buttonEl =\n",
              "        document.querySelector('#df-b21df0bc-0c43-4469-b94d-3614a62a36f7 button.colab-df-convert');\n",
              "      buttonEl.style.display =\n",
              "        google.colab.kernel.accessAllowed ? 'block' : 'none';\n",
              "\n",
              "      async function convertToInteractive(key) {\n",
              "        const element = document.querySelector('#df-b21df0bc-0c43-4469-b94d-3614a62a36f7');\n",
              "        const dataTable =\n",
              "          await google.colab.kernel.invokeFunction('convertToInteractive',\n",
              "                                                    [key], {});\n",
              "        if (!dataTable) return;\n",
              "\n",
              "        const docLinkHtml = 'Like what you see? Visit the ' +\n",
              "          '<a target=\"_blank\" href=https://colab.research.google.com/notebooks/data_table.ipynb>data table notebook</a>'\n",
              "          + ' to learn more about interactive tables.';\n",
              "        element.innerHTML = '';\n",
              "        dataTable['output_type'] = 'display_data';\n",
              "        await google.colab.output.renderOutput(dataTable, element);\n",
              "        const docLink = document.createElement('div');\n",
              "        docLink.innerHTML = docLinkHtml;\n",
              "        element.appendChild(docLink);\n",
              "      }\n",
              "    </script>\n",
              "  </div>\n",
              "\n",
              "\n",
              "<div id=\"df-83ef8650-33d2-4435-b082-0ffdfb17c3ac\">\n",
              "  <button class=\"colab-df-quickchart\" onclick=\"quickchart('df-83ef8650-33d2-4435-b082-0ffdfb17c3ac')\"\n",
              "            title=\"Suggest charts\"\n",
              "            style=\"display:none;\">\n",
              "\n",
              "<svg xmlns=\"http://www.w3.org/2000/svg\" height=\"24px\"viewBox=\"0 0 24 24\"\n",
              "     width=\"24px\">\n",
              "    <g>\n",
              "        <path d=\"M19 3H5c-1.1 0-2 .9-2 2v14c0 1.1.9 2 2 2h14c1.1 0 2-.9 2-2V5c0-1.1-.9-2-2-2zM9 17H7v-7h2v7zm4 0h-2V7h2v10zm4 0h-2v-4h2v4z\"/>\n",
              "    </g>\n",
              "</svg>\n",
              "  </button>\n",
              "\n",
              "<style>\n",
              "  .colab-df-quickchart {\n",
              "      --bg-color: #E8F0FE;\n",
              "      --fill-color: #1967D2;\n",
              "      --hover-bg-color: #E2EBFA;\n",
              "      --hover-fill-color: #174EA6;\n",
              "      --disabled-fill-color: #AAA;\n",
              "      --disabled-bg-color: #DDD;\n",
              "  }\n",
              "\n",
              "  [theme=dark] .colab-df-quickchart {\n",
              "      --bg-color: #3B4455;\n",
              "      --fill-color: #D2E3FC;\n",
              "      --hover-bg-color: #434B5C;\n",
              "      --hover-fill-color: #FFFFFF;\n",
              "      --disabled-bg-color: #3B4455;\n",
              "      --disabled-fill-color: #666;\n",
              "  }\n",
              "\n",
              "  .colab-df-quickchart {\n",
              "    background-color: var(--bg-color);\n",
              "    border: none;\n",
              "    border-radius: 50%;\n",
              "    cursor: pointer;\n",
              "    display: none;\n",
              "    fill: var(--fill-color);\n",
              "    height: 32px;\n",
              "    padding: 0;\n",
              "    width: 32px;\n",
              "  }\n",
              "\n",
              "  .colab-df-quickchart:hover {\n",
              "    background-color: var(--hover-bg-color);\n",
              "    box-shadow: 0 1px 2px rgba(60, 64, 67, 0.3), 0 1px 3px 1px rgba(60, 64, 67, 0.15);\n",
              "    fill: var(--button-hover-fill-color);\n",
              "  }\n",
              "\n",
              "  .colab-df-quickchart-complete:disabled,\n",
              "  .colab-df-quickchart-complete:disabled:hover {\n",
              "    background-color: var(--disabled-bg-color);\n",
              "    fill: var(--disabled-fill-color);\n",
              "    box-shadow: none;\n",
              "  }\n",
              "\n",
              "  .colab-df-spinner {\n",
              "    border: 2px solid var(--fill-color);\n",
              "    border-color: transparent;\n",
              "    border-bottom-color: var(--fill-color);\n",
              "    animation:\n",
              "      spin 1s steps(1) infinite;\n",
              "  }\n",
              "\n",
              "  @keyframes spin {\n",
              "    0% {\n",
              "      border-color: transparent;\n",
              "      border-bottom-color: var(--fill-color);\n",
              "      border-left-color: var(--fill-color);\n",
              "    }\n",
              "    20% {\n",
              "      border-color: transparent;\n",
              "      border-left-color: var(--fill-color);\n",
              "      border-top-color: var(--fill-color);\n",
              "    }\n",
              "    30% {\n",
              "      border-color: transparent;\n",
              "      border-left-color: var(--fill-color);\n",
              "      border-top-color: var(--fill-color);\n",
              "      border-right-color: var(--fill-color);\n",
              "    }\n",
              "    40% {\n",
              "      border-color: transparent;\n",
              "      border-right-color: var(--fill-color);\n",
              "      border-top-color: var(--fill-color);\n",
              "    }\n",
              "    60% {\n",
              "      border-color: transparent;\n",
              "      border-right-color: var(--fill-color);\n",
              "    }\n",
              "    80% {\n",
              "      border-color: transparent;\n",
              "      border-right-color: var(--fill-color);\n",
              "      border-bottom-color: var(--fill-color);\n",
              "    }\n",
              "    90% {\n",
              "      border-color: transparent;\n",
              "      border-bottom-color: var(--fill-color);\n",
              "    }\n",
              "  }\n",
              "</style>\n",
              "\n",
              "  <script>\n",
              "    async function quickchart(key) {\n",
              "      const quickchartButtonEl =\n",
              "        document.querySelector('#' + key + ' button');\n",
              "      quickchartButtonEl.disabled = true;  // To prevent multiple clicks.\n",
              "      quickchartButtonEl.classList.add('colab-df-spinner');\n",
              "      try {\n",
              "        const charts = await google.colab.kernel.invokeFunction(\n",
              "            'suggestCharts', [key], {});\n",
              "      } catch (error) {\n",
              "        console.error('Error during call to suggestCharts:', error);\n",
              "      }\n",
              "      quickchartButtonEl.classList.remove('colab-df-spinner');\n",
              "      quickchartButtonEl.classList.add('colab-df-quickchart-complete');\n",
              "    }\n",
              "    (() => {\n",
              "      let quickchartButtonEl =\n",
              "        document.querySelector('#df-83ef8650-33d2-4435-b082-0ffdfb17c3ac button');\n",
              "      quickchartButtonEl.style.display =\n",
              "        google.colab.kernel.accessAllowed ? 'block' : 'none';\n",
              "    })();\n",
              "  </script>\n",
              "</div>\n",
              "    </div>\n",
              "  </div>\n"
            ],
            "application/vnd.google.colaboratory.intrinsic+json": {
              "type": "dataframe",
              "variable_name": "false_negatives",
              "summary": "{\n  \"name\": \"false_negatives\",\n  \"rows\": 3360,\n  \"fields\": [\n    {\n      \"column\": \"id\",\n      \"properties\": {\n        \"dtype\": \"number\",\n        \"std\": 116730,\n        \"min\": 152,\n        \"max\": 404244,\n        \"num_unique_values\": 3360,\n        \"samples\": [\n          5504,\n          371716,\n          172349\n        ],\n        \"semantic_type\": \"\",\n        \"description\": \"\"\n      }\n    },\n    {\n      \"column\": \"qid1\",\n      \"properties\": {\n        \"dtype\": \"number\",\n        \"std\": 153631,\n        \"min\": 57,\n        \"max\": 537469,\n        \"num_unique_values\": 3293,\n        \"samples\": [\n          28132,\n          344721,\n          136252\n        ],\n        \"semantic_type\": \"\",\n        \"description\": \"\"\n      }\n    },\n    {\n      \"column\": \"qid2\",\n      \"properties\": {\n        \"dtype\": \"number\",\n        \"std\": 153243,\n        \"min\": 108,\n        \"max\": 537470,\n        \"num_unique_values\": 3289,\n        \"samples\": [\n          434852,\n          93548,\n          345365\n        ],\n        \"semantic_type\": \"\",\n        \"description\": \"\"\n      }\n    },\n    {\n      \"column\": \"question1\",\n      \"properties\": {\n        \"dtype\": \"string\",\n        \"num_unique_values\": 3293,\n        \"samples\": [\n          \"What are some ways to lose weight fast?\",\n          \"Is a low dose of aspirin safe for dogs?\",\n          \"How do you get rid of athletes foot odor?\"\n        ],\n        \"semantic_type\": \"\",\n        \"description\": \"\"\n      }\n    },\n    {\n      \"column\": \"question2\",\n      \"properties\": {\n        \"dtype\": \"string\",\n        \"num_unique_values\": 3289,\n        \"samples\": [\n          \"How do I prepare green tea at home?\",\n          \"What is the best free mobile website builder?\",\n          \"What 's the best way to prepare for TOEFL/IELTS?\"\n        ],\n        \"semantic_type\": \"\",\n        \"description\": \"\"\n      }\n    },\n    {\n      \"column\": \"is_duplicate\",\n      \"properties\": {\n        \"dtype\": \"number\",\n        \"std\": 0,\n        \"min\": 1,\n        \"max\": 1,\n        \"num_unique_values\": 1,\n        \"samples\": [\n          1\n        ],\n        \"semantic_type\": \"\",\n        \"description\": \"\"\n      }\n    },\n    {\n      \"column\": \"pred_labels\",\n      \"properties\": {\n        \"dtype\": \"number\",\n        \"std\": 0,\n        \"min\": 0,\n        \"max\": 0,\n        \"num_unique_values\": 1,\n        \"samples\": [\n          0\n        ],\n        \"semantic_type\": \"\",\n        \"description\": \"\"\n      }\n    }\n  ]\n}"
            }
          },
          "metadata": {},
          "execution_count": 78
        }
      ]
    },
    {
      "cell_type": "markdown",
      "source": [
        "Looking at this data, I think that model performance could be improved further if we improve the data, as most labels look very confusing (e.g. these questions are not considered duplicates - *'What is something everybody should know about your city/village/town?'\t'What should everyone know about your city?'* but these are - *'Can India, Pakistan and Bangladesh unite?'\t'Will India, Pakistan and Afghanistan ever unite and become one?'*)."
      ],
      "metadata": {
        "id": "W2uyCG_1u9d0"
      }
    }
  ],
  "metadata": {
    "accelerator": "GPU",
    "colab": {
      "gpuType": "A100",
      "provenance": [],
      "machine_shape": "hm"
    },
    "kernelspec": {
      "display_name": "Python 3",
      "name": "python3"
    },
    "language_info": {
      "name": "python"
    }
  },
  "nbformat": 4,
  "nbformat_minor": 0
}